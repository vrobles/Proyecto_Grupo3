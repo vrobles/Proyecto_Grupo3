{
 "cells": [
  {
   "cell_type": "markdown",
   "metadata": {},
   "source": [
    "                               CREDITOS OTORGADOS - PRODUBANCO (Grupos 1-4)\n",
    "\n",
    "En el ámbito financiero, la concesión de créditos es una de las actividades más importantes y a\n",
    "la vez, una de las más riesgosas para las instituciones. La capacidad de predecir y gestionar\n",
    "adecuadamente el riesgo crediticio es crucial para mantener la estabilidad financiera y\n",
    "minimizar las pérdidas. Este proyecto tiene como objetivo analizar el estatus de los créditos\n",
    "otorgados y determinar los factores que influyen en el incumplimiento de pago.\n",
    "\n",
    "El análisis de datos históricos sobre la forma en que los créditos fueron otorgados y su\n",
    "posterior desempeño nos permitirá identificar patrones y tendencias en el comportamiento de\n",
    "los prestatarios. Con un enfoque centrado en la identificación de créditos que cayeron en\n",
    "vencimiento, este proyecto busca proporcionar una comprensión profunda de los factores que\n",
    "contribuyen a la morosidad.\n",
    "\n",
    "Tenemos datos completos de todos los préstamos emitidos entre 2007 y 2015, incluido el\n",
    "estado actual del préstamo (vigente, retrasado, totalmente pagado, etc.) y la última información\n",
    "de pago. Las características (también conocidas como variables) incluyen la puntuación\n",
    "crediticia, el número de consultas financieras, la dirección, incluidos los códigos postales y el\n",
    "estado, y los cobros, entre otros. El apartado de cobros indica si el cliente ha incumplido uno o\n",
    "más pagos y el equipo está intentando recuperar su dinero.\n",
    "\n",
    "Produbanco, requiere del departamento de Business Intelligence analizar un grupo de creditos\n",
    "históricos. Asuma que el mes de análisis en marzo 2019 (fecha actual).\n",
    "Usted deberá cumplir con al menos los siguientes puntos:\n",
    "\n",
    "Definición de mal pagador:"
   ]
  },
  {
   "cell_type": "code",
   "execution_count": null,
   "metadata": {},
   "outputs": [],
   "source": []
  }
 ],
 "metadata": {
  "kernelspec": {
   "display_name": "Python 3",
   "language": "python",
   "name": "python3"
  },
  "language_info": {
   "codemirror_mode": {
    "name": "ipython",
    "version": 3
   },
   "file_extension": ".py",
   "mimetype": "text/x-python",
   "name": "python",
   "nbconvert_exporter": "python",
   "pygments_lexer": "ipython3",
   "version": "3.7.1"
  }
 },
 "nbformat": 4,
 "nbformat_minor": 2
}
