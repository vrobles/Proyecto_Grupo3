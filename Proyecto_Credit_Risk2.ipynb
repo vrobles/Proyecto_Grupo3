{
 "cells": [
  {
   "cell_type": "markdown",
   "metadata": {
    "id": "UJv7qbTNWZ2m"
   },
   "source": [
    "*Import de módulos para el proyecto*"
   ]
  },
  {
   "cell_type": "code",
   "execution_count": 1,
   "metadata": {
    "id": "WPuHFQgSWUR4"
   },
   "outputs": [],
   "source": [
    "import pandas as pd\n",
    "import seaborn as sns\n",
    "import matplotlib.pyplot as plt\n",
    "import numpy as np"
   ]
  },
  {
   "cell_type": "markdown",
   "metadata": {
    "id": "isDTeWMOWzvF"
   },
   "source": [
    "Conexión con Google Drive para acceder al archivo"
   ]
  },
  {
   "cell_type": "code",
   "execution_count": null,
   "metadata": {
    "id": "lKPmFFI5W-Ta"
   },
   "outputs": [],
   "source": [
    "credito_df = pd.read_csv('/content/drive/MyDrive/Bootcamp/Proyecto Produbanco - Coding para procesamiento/creditos_historicos.csv', low_memory=False)"
   ]
  },
  {
   "cell_type": "code",
   "execution_count": 2,
   "metadata": {},
   "outputs": [],
   "source": [
    "credito_df = pd.read_csv('creditos_historicos.csv', low_memory=False)"
   ]
  },
  {
   "cell_type": "markdown",
   "metadata": {},
   "source": [
    "                               CREDITOS OTORGADOS - PRODUBANCO (Grupos 1-4)\n",
    "\n",
    "En el ámbito financiero, la concesión de créditos es una de las actividades más importantes y a\n",
    "la vez, una de las más riesgosas para las instituciones. La capacidad de predecir y gestionar\n",
    "adecuadamente el riesgo crediticio es crucial para mantener la estabilidad financiera y\n",
    "minimizar las pérdidas. Este proyecto tiene como objetivo analizar el estatus de los créditos\n",
    "otorgados y determinar los factores que influyen en el incumplimiento de pago.\n",
    "\n",
    "El análisis de datos históricos sobre la forma en que los créditos fueron otorgados y su\n",
    "posterior desempeño nos permitirá identificar patrones y tendencias en el comportamiento de\n",
    "los prestatarios. Con un enfoque centrado en la identificación de créditos que cayeron en\n",
    "vencimiento, este proyecto busca proporcionar una comprensión profunda de los factores que\n",
    "contribuyen a la morosidad.\n",
    "\n",
    "Tenemos datos completos de todos los préstamos emitidos entre 2007 y 2015, incluido el\n",
    "estado actual del préstamo (vigente, retrasado, totalmente pagado, etc.) y la última información\n",
    "de pago. Las características (también conocidas como variables) incluyen la puntuación\n",
    "crediticia, el número de consultas financieras, la dirección, incluidos los códigos postales y el\n",
    "estado, y los cobros, entre otros. El apartado de cobros indica si el cliente ha incumplido uno o\n",
    "más pagos y el equipo está intentando recuperar su dinero.\n",
    "\n",
    "Produbanco, requiere del departamento de Business Intelligence analizar un grupo de creditos\n",
    "históricos. Asuma que el mes de análisis en marzo 2019 (fecha actual).\n",
    "Usted deberá cumplir con al menos los siguientes puntos:"
   ]
  },
  {
   "cell_type": "markdown",
   "metadata": {},
   "source": [
    "**Definición de mal pagador**\n",
    "\n",
    "1. Crear una definición de ‘mal_pagador’. El dataset cuenta con varias columnas que\n",
    "hacen referencia los clientes que han tenido problemas de pagos. Analice y escoja una\n",
    "para crear la definición de mal pagador."
   ]
  },
  {
   "cell_type": "markdown",
   "metadata": {
    "id": "aH-v2ZX_XYaH"
   },
   "source": [
    "Consultar tamaño del dataframe para saber numero de observaciones y series --- 2260668 observaciones, 23 variables"
   ]
  },
  {
   "cell_type": "code",
   "execution_count": 3,
   "metadata": {
    "colab": {
     "base_uri": "https://localhost:8080/"
    },
    "id": "X06PAQ20Xdhu",
    "outputId": "2c41baa0-857f-458c-d3ce-3fb392be6967"
   },
   "outputs": [
    {
     "data": {
      "text/plain": [
       "(2260668, 23)"
      ]
     },
     "execution_count": 3,
     "metadata": {},
     "output_type": "execute_result"
    }
   ],
   "source": [
    "credito_df.shape"
   ]
  },
  {
   "cell_type": "markdown",
   "metadata": {
    "id": "PwbeFdaTYBhc"
   },
   "source": [
    "Consultar los estados del crédito de cada cliente para crear categorías de riesgo. Ej. Fully Paid representa riesgo bajo, Late es de riesgo alto"
   ]
  },
  {
   "cell_type": "code",
   "execution_count": 4,
   "metadata": {
    "colab": {
     "base_uri": "https://localhost:8080/"
    },
    "id": "nnizyyOHYOeC",
    "outputId": "14102429-3cfc-43b6-df0a-aabfc6798c1a"
   },
   "outputs": [
    {
     "data": {
      "text/plain": [
       "Fully Paid                                             1041952\n",
       "Current                                                 919695\n",
       "Charged Off                                             261655\n",
       "Late (31-120 days)                                       21897\n",
       "In Grace Period                                           8952\n",
       "Late (16-30 days)                                         3737\n",
       "Does not meet the credit policy. Status:Fully Paid        1988\n",
       "Does not meet the credit policy. Status:Charged Off        761\n",
       "Default                                                     31\n",
       "Name: loan_status, dtype: int64"
      ]
     },
     "execution_count": 4,
     "metadata": {},
     "output_type": "execute_result"
    }
   ],
   "source": [
    "credito_df['loan_status'].value_counts()"
   ]
  },
  {
   "cell_type": "markdown",
   "metadata": {
    "id": "jJhRTyekX64K"
   },
   "source": [
    "\n",
    "Crear función que clasifique estos estados en riesgo alto o bajo"
   ]
  },
  {
   "cell_type": "code",
   "execution_count": 5,
   "metadata": {
    "id": "YkGCATlia6aH"
   },
   "outputs": [],
   "source": [
    "def status_riesgo(status):\n",
    "    if status in ['Fully Paid', 'Current', 'In Grace Period']:\n",
    "       return 'low risk'\n",
    "    else:\n",
    "       return 'high risk'"
   ]
  },
  {
   "cell_type": "markdown",
   "metadata": {
    "id": "_XbJr1fAcz8M"
   },
   "source": [
    "Crear nueva columna de riesgo según el estado del credito"
   ]
  },
  {
   "cell_type": "code",
   "execution_count": 6,
   "metadata": {
    "id": "30NqFYcMc--0"
   },
   "outputs": [],
   "source": [
    "credito_df['risk_status'] = credito_df['loan_status'].apply(lambda x:status_riesgo(x))"
   ]
  },
  {
   "cell_type": "markdown",
   "metadata": {
    "id": "H3-2uqUjd1Bk"
   },
   "source": [
    "En esta nueva serie, las observaciones son 1970599 riesgo bajo y 290069 riesgo alto"
   ]
  },
  {
   "cell_type": "code",
   "execution_count": 7,
   "metadata": {
    "colab": {
     "base_uri": "https://localhost:8080/"
    },
    "id": "wSEB60uAfX4Z",
    "outputId": "3cae90cb-e273-457f-b321-cb9388c3bf3b"
   },
   "outputs": [
    {
     "data": {
      "text/plain": [
       "low risk     1970599\n",
       "high risk     290069\n",
       "Name: risk_status, dtype: int64"
      ]
     },
     "execution_count": 7,
     "metadata": {},
     "output_type": "execute_result"
    }
   ],
   "source": [
    "credito_df['risk_status'].value_counts()"
   ]
  },
  {
   "cell_type": "markdown",
   "metadata": {
    "id": "JNtwrU36f3O2"
   },
   "source": [
    "Definir función para evaluar malos pagadores según tres parámetros: riesgo_status, meses desde la última vez que cayeron en mora y las veces que estuvieron en mora en los últimos dos años.\n",
    "\n",
    "Ej. Si el pagador tiene riesgo bajo y ha pasado más de un mes, mal pagador. Si en los últimos dos años, estuvo en mora más de 2 veces, mal pagador"
   ]
  },
  {
   "cell_type": "code",
   "execution_count": 8,
   "metadata": {
    "id": "AnWahyBAhgrc"
   },
   "outputs": [],
   "source": [
    "def marca(riesgo,meses,record2yrs):\n",
    "    if (riesgo == 'high risk') or (riesgo == 'low risk' and meses <6) or (record2yrs >2):\n",
    "       return 1\n",
    "    else:\n",
    "       return 0"
   ]
  },
  {
   "cell_type": "markdown",
   "metadata": {
    "id": "xxj0oCPVtX9m"
   },
   "source": [
    "Crear serie aplicando la función definida anteriormente"
   ]
  },
  {
   "cell_type": "code",
   "execution_count": 9,
   "metadata": {
    "id": "x-Od94rYtcX6"
   },
   "outputs": [],
   "source": [
    "credito_df['marca_mal_pagador'] = credito_df.apply(lambda x: marca(riesgo=x['risk_status'],meses=x['mths_since_last_delinq'], record2yrs=x['delinq_2yrs']), axis =1)"
   ]
  },
  {
   "cell_type": "markdown",
   "metadata": {
    "id": "1OiIXWqRt61P"
   },
   "source": [
    "Existen 384384 clientes marcados como malos pagadores"
   ]
  },
  {
   "cell_type": "code",
   "execution_count": 10,
   "metadata": {
    "colab": {
     "base_uri": "https://localhost:8080/"
    },
    "id": "t2G1ptgtt-25",
    "outputId": "61fa5c80-e9ac-4306-f42d-2fd95365f8d7"
   },
   "outputs": [
    {
     "data": {
      "text/plain": [
       "0    1876284\n",
       "1     384384\n",
       "Name: marca_mal_pagador, dtype: int64"
      ]
     },
     "execution_count": 10,
     "metadata": {},
     "output_type": "execute_result"
    }
   ],
   "source": [
    "credito_df['marca_mal_pagador'].value_counts()"
   ]
  },
  {
   "cell_type": "markdown",
   "metadata": {
    "id": "QB4TtoUouFI9"
   },
   "source": [
    "# **Data Quality**\n",
    "\n",
    "*Duplicados*\n",
    "\n",
    "1. Analice si existen valores duplicados, y si es así aborde el problema."
   ]
  },
  {
   "cell_type": "markdown",
   "metadata": {},
   "source": [
    "Para evaluar duplicados en este df revisaremos el id_cliente, ya que las otras variables podrían estar repetidas sin que signifique registro duplicado"
   ]
  },
  {
   "cell_type": "code",
   "execution_count": 11,
   "metadata": {
    "colab": {
     "base_uri": "https://localhost:8080/"
    },
    "id": "CYRlOW-3uY2W",
    "outputId": "d35f96c2-6a55-4b31-9215-29c4dcaf6f60"
   },
   "outputs": [
    {
     "data": {
      "text/plain": [
       "False    2260668\n",
       "Name: id_cliente, dtype: int64"
      ]
     },
     "execution_count": 11,
     "metadata": {},
     "output_type": "execute_result"
    }
   ],
   "source": [
    "credito_df['id_cliente']. duplicated().value_counts()"
   ]
  },
  {
   "cell_type": "markdown",
   "metadata": {
    "id": "oHo3aMzZugAQ"
   },
   "source": [
    "No existen duplicados, no necesita procesamiento adicional"
   ]
  },
  {
   "cell_type": "markdown",
   "metadata": {
    "id": "0KsQx4FXusrK"
   },
   "source": [
    "*Nulos*\n",
    "\n",
    "2. Analice si existen valores nulos, y si es así aborde el problema. Puede usar cualquiera\n",
    "de las alternativas que vimos en clase.\n",
    "\n",
    "isnull().any() retorna un detalle de columnas con nulos en todo el df"
   ]
  },
  {
   "cell_type": "code",
   "execution_count": 14,
   "metadata": {
    "colab": {
     "base_uri": "https://localhost:8080/"
    },
    "id": "ZacgjnNWu2z8",
    "outputId": "21cbf0f9-265b-4e3e-d3ff-022ab11796d5"
   },
   "outputs": [
    {
     "data": {
      "text/plain": [
       "id_cliente                 False\n",
       "loan_status                False\n",
       "loan_amnt                  False\n",
       "installment                False\n",
       "term                       False\n",
       "emp_title                   True\n",
       "emp_length                  True\n",
       "home_ownership             False\n",
       "annual_inc                  True\n",
       "verification_status        False\n",
       "purpose                    False\n",
       "addr_state                 False\n",
       "delinq_2yrs                 True\n",
       "next_pymnt_d                True\n",
       "earliest_cr_line            True\n",
       "mths_since_last_delinq      True\n",
       "total_pymnt                False\n",
       "recoveries                 False\n",
       "collection_recovery_fee    False\n",
       "last_pymnt_d                True\n",
       "settlement_status           True\n",
       "application_type           False\n",
       "tot_hi_cred_lim             True\n",
       "risk_status                False\n",
       "marca_mal_pagador          False\n",
       "dtype: bool"
      ]
     },
     "execution_count": 14,
     "metadata": {},
     "output_type": "execute_result"
    }
   ],
   "source": [
    "credito_df.isnull().any()"
   ]
  },
  {
   "cell_type": "markdown",
   "metadata": {
    "id": "IGafH-HHvAmI"
   },
   "source": [
    "Crear view para consultar la cantidad de nulos en las series identificadas. Emplear *isnull().value_counts()*\n",
    "\n",
    "emp_title -- 166969\n",
    "\n",
    "emp_length -- 146907\n",
    "\n",
    "annual_inc -- 4\n",
    "\n",
    "delinq_2yrs -- 29\n",
    "\n",
    "next_pymnt_d -- 1303607 nulos\n",
    "\n",
    "earliest_cr_line -- 29\n",
    "\n",
    "last_pymnt_d -- 2426\n",
    "\n",
    "mths_since_last_delinq -- 1158473\n",
    "\n",
    "settlement_status -- 2227583\n",
    "\n",
    "tot_hi_cred_lim -- 70247"
   ]
  },
  {
   "cell_type": "code",
   "execution_count": 15,
   "metadata": {
    "colab": {
     "base_uri": "https://localhost:8080/"
    },
    "id": "3rzCacvOvryJ",
    "outputId": "6db0c81d-7106-40a3-917c-19fd04bc522b"
   },
   "outputs": [
    {
     "data": {
      "text/plain": [
       "(2426, 25)"
      ]
     },
     "execution_count": 15,
     "metadata": {},
     "output_type": "execute_result"
    }
   ],
   "source": [
    "view= credito_df[credito_df['last_pymnt_d'].isnull()]\n",
    "view.shape"
   ]
  },
  {
   "cell_type": "markdown",
   "metadata": {
    "id": "RDkS-wczzO_6"
   },
   "source": [
    "Crear nuevo df eliminando las observaciones NaN de las columnas con menos nulos: annual inc, delinq 2yrs, earliest cr line.\n",
    "\n",
    "Emplear *dropna*"
   ]
  },
  {
   "cell_type": "code",
   "execution_count": 16,
   "metadata": {
    "colab": {
     "base_uri": "https://localhost:8080/"
    },
    "id": "x_Ym2Ac9067n",
    "outputId": "4f1140d5-6144-4a51-df16-43dce6ccd5e3"
   },
   "outputs": [
    {
     "data": {
      "text/plain": [
       "(2260639, 25)"
      ]
     },
     "execution_count": 16,
     "metadata": {},
     "output_type": "execute_result"
    }
   ],
   "source": [
    "creditos2 = credito_df.dropna(subset=['annual_inc','delinq_2yrs','earliest_cr_line'])\n",
    "creditos2.shape"
   ]
  },
  {
   "cell_type": "markdown",
   "metadata": {
    "id": "ZBbfWuVB5J6T"
   },
   "source": [
    "Consultar los nulos identificados y ver a qué pertenecen"
   ]
  },
  {
   "cell_type": "markdown",
   "metadata": {
    "id": "Y6jYfb4F8n8C"
   },
   "source": [
    "- Los nulos de last payment pertenecen a los incobrables, tardíos más de 30 días, incobrables y default"
   ]
  },
  {
   "cell_type": "markdown",
   "metadata": {
    "id": "EppzBvxn8xGZ"
   },
   "source": [
    "- Los nulos de next payment están asociados a los créditos pagados o incobrables. Asignar fecha anterior a 2000"
   ]
  },
  {
   "cell_type": "code",
   "execution_count": 17,
   "metadata": {
    "id": "1IEMuEVr5PUc"
   },
   "outputs": [],
   "source": [
    "nulos = creditos2.next_pymnt_d.isnull()"
   ]
  },
  {
   "cell_type": "code",
   "execution_count": 18,
   "metadata": {
    "colab": {
     "base_uri": "https://localhost:8080/"
    },
    "id": "TGLsN3pR5SE_",
    "outputId": "b33b3e9a-2623-4cfc-bf06-8b80184d63f4"
   },
   "outputs": [
    {
     "data": {
      "text/plain": [
       "Fully Paid     1041952\n",
       "Charged Off     261655\n",
       "Name: loan_status, dtype: int64"
      ]
     },
     "execution_count": 18,
     "metadata": {},
     "output_type": "execute_result"
    }
   ],
   "source": [
    "creditos2['loan_status'][nulos].value_counts()"
   ]
  },
  {
   "cell_type": "markdown",
   "metadata": {
    "id": "_rNBb8L7-hUX"
   },
   "source": [
    "#*Tratamiento de valores NaN*\n",
    "\n",
    "- Los nulos en columnas **emp title, emp length y settlement** son significativos, no se pueden eliminar registros. Reemplazar con valor 'unknown'"
   ]
  },
  {
   "cell_type": "code",
   "execution_count": 19,
   "metadata": {
    "colab": {
     "base_uri": "https://localhost:8080/"
    },
    "id": "gBuitl_PAWVj",
    "outputId": "f0b2461e-a99e-4515-c87c-7a0dc2ee861e"
   },
   "outputs": [
    {
     "name": "stderr",
     "output_type": "stream",
     "text": [
      "C:\\Users\\vanes\\Anaconda3\\lib\\site-packages\\pandas\\core\\generic.py:5434: SettingWithCopyWarning: \n",
      "A value is trying to be set on a copy of a slice from a DataFrame\n",
      "\n",
      "See the caveats in the documentation: http://pandas.pydata.org/pandas-docs/stable/indexing.html#indexing-view-versus-copy\n",
      "  self._update_inplace(new_data)\n"
     ]
    }
   ],
   "source": [
    "creditos2['emp_title'].fillna('unknown', inplace=True)\n",
    "creditos2['emp_length'].fillna('unknown', inplace=True)\n",
    "creditos2['settlement_status'].fillna('unknown', inplace=True)"
   ]
  },
  {
   "cell_type": "markdown",
   "metadata": {
    "id": "YLu_aIuJIBdQ"
   },
   "source": [
    "- Fechas en **next y last payment d** reemplazar con Dic-2000 para poder separarlas de las otras fechas en las series, cuyos valores van del 2007 a 2015"
   ]
  },
  {
   "cell_type": "code",
   "execution_count": 20,
   "metadata": {
    "colab": {
     "base_uri": "https://localhost:8080/"
    },
    "id": "7r4ETk2vIAMS",
    "outputId": "1425581a-c0c4-4dc3-f42e-e11d02ad1880"
   },
   "outputs": [],
   "source": [
    "creditos2['last_pymnt_d'].fillna('Dec-2000', inplace=True)\n",
    "creditos2['next_pymnt_d'].fillna('Dec-2000', inplace=True)"
   ]
  },
  {
   "cell_type": "markdown",
   "metadata": {
    "id": "iTOQroRGUFn2"
   },
   "source": [
    "- Para tratar nulos de **months since last delinq** primero consultar valores, si no existen ceros se puede asignar este valor"
   ]
  },
  {
   "cell_type": "code",
   "execution_count": 21,
   "metadata": {
    "id": "QpvtzspPUeMh"
   },
   "outputs": [],
   "source": [
    "#creditos2.mths_since_last_delinq.value_counts().to_dict()"
   ]
  },
  {
   "cell_type": "markdown",
   "metadata": {
    "id": "GnjmwYTWUqAJ"
   },
   "source": [
    "Existen 2400 observaciones con cero entonces no se puede asignar el mismo valor, rellenar con -999"
   ]
  },
  {
   "cell_type": "code",
   "execution_count": 22,
   "metadata": {
    "colab": {
     "base_uri": "https://localhost:8080/"
    },
    "id": "qG90yi1OU1W6",
    "outputId": "f6122801-29c8-474a-bbb3-f2d788222cf5"
   },
   "outputs": [],
   "source": [
    "creditos2['mths_since_last_delinq'].fillna(-999, inplace=True)"
   ]
  },
  {
   "cell_type": "markdown",
   "metadata": {
    "id": "HoraHhtlVfNX"
   },
   "source": [
    "- Para **tot hi cred lim**, rellenar NaN con el promedio del resto de valores. Crear variable para después aplicar el *fillna*"
   ]
  },
  {
   "cell_type": "code",
   "execution_count": 23,
   "metadata": {
    "colab": {
     "base_uri": "https://localhost:8080/"
    },
    "id": "tleTG77-VIzp",
    "outputId": "dfbf695e-48a9-4595-e5a2-6b8f7af50794"
   },
   "outputs": [],
   "source": [
    "prom_cred_mas_alto = int(creditos2['tot_hi_cred_lim'].mean())"
   ]
  },
  {
   "cell_type": "code",
   "execution_count": 24,
   "metadata": {
    "colab": {
     "base_uri": "https://localhost:8080/"
    },
    "id": "oVorka3UV1bO",
    "outputId": "6f8a56c5-ff3f-403b-af02-458495086d61"
   },
   "outputs": [],
   "source": [
    "creditos2['tot_hi_cred_lim'].fillna(prom_cred_mas_alto,inplace=True)"
   ]
  },
  {
   "cell_type": "markdown",
   "metadata": {
    "id": "DfQHCPyOU73Z"
   },
   "source": [
    "Las dos celdas siguientes se usan para confirmar nulos en el df y para ver si los valores NaN se rellenaron correctamente en las series procesadas"
   ]
  },
  {
   "cell_type": "code",
   "execution_count": 25,
   "metadata": {
    "colab": {
     "base_uri": "https://localhost:8080/"
    },
    "id": "_37HfVPsBKp5",
    "outputId": "6df3093b-1ea0-4b19-94a6-9555a0348e56"
   },
   "outputs": [
    {
     "data": {
      "text/plain": [
       "id_cliente                 False\n",
       "loan_status                False\n",
       "loan_amnt                  False\n",
       "installment                False\n",
       "term                       False\n",
       "emp_title                  False\n",
       "emp_length                 False\n",
       "home_ownership             False\n",
       "annual_inc                 False\n",
       "verification_status        False\n",
       "purpose                    False\n",
       "addr_state                 False\n",
       "delinq_2yrs                False\n",
       "next_pymnt_d               False\n",
       "earliest_cr_line           False\n",
       "mths_since_last_delinq     False\n",
       "total_pymnt                False\n",
       "recoveries                 False\n",
       "collection_recovery_fee    False\n",
       "last_pymnt_d               False\n",
       "settlement_status          False\n",
       "application_type           False\n",
       "tot_hi_cred_lim            False\n",
       "risk_status                False\n",
       "marca_mal_pagador          False\n",
       "dtype: bool"
      ]
     },
     "execution_count": 25,
     "metadata": {},
     "output_type": "execute_result"
    }
   ],
   "source": [
    "creditos2.isnull().any()"
   ]
  },
  {
   "cell_type": "code",
   "execution_count": 26,
   "metadata": {
    "colab": {
     "base_uri": "https://localhost:8080/"
    },
    "id": "p8MnIwVYBZqr",
    "outputId": "2b207299-ee3e-41a7-abbb-90f28debe009"
   },
   "outputs": [
    {
     "data": {
      "text/plain": [
       "unknown     2227583\n",
       "ACTIVE        14811\n",
       "COMPLETE      13517\n",
       "BROKEN         4728\n",
       "Name: settlement_status, dtype: int64"
      ]
     },
     "execution_count": 26,
     "metadata": {},
     "output_type": "execute_result"
    }
   ],
   "source": [
    "creditos2.settlement_status.value_counts()"
   ]
  },
  {
   "cell_type": "markdown",
   "metadata": {
    "id": "thMh_OBiYe0O"
   },
   "source": [
    "Cambiar tipos de datos para facilitar el analisis"
   ]
  },
  {
   "cell_type": "code",
   "execution_count": 27,
   "metadata": {
    "colab": {
     "base_uri": "https://localhost:8080/"
    },
    "id": "X6utgIpnYkDR",
    "outputId": "11d6633e-253a-4bd9-8603-b045e14a40d9"
   },
   "outputs": [
    {
     "name": "stderr",
     "output_type": "stream",
     "text": [
      "C:\\Users\\vanes\\Anaconda3\\lib\\site-packages\\ipykernel_launcher.py:1: SettingWithCopyWarning: \n",
      "A value is trying to be set on a copy of a slice from a DataFrame.\n",
      "Try using .loc[row_indexer,col_indexer] = value instead\n",
      "\n",
      "See the caveats in the documentation: http://pandas.pydata.org/pandas-docs/stable/indexing.html#indexing-view-versus-copy\n",
      "  \"\"\"Entry point for launching an IPython kernel.\n",
      "C:\\Users\\vanes\\Anaconda3\\lib\\site-packages\\ipykernel_launcher.py:2: SettingWithCopyWarning: \n",
      "A value is trying to be set on a copy of a slice from a DataFrame.\n",
      "Try using .loc[row_indexer,col_indexer] = value instead\n",
      "\n",
      "See the caveats in the documentation: http://pandas.pydata.org/pandas-docs/stable/indexing.html#indexing-view-versus-copy\n",
      "  \n",
      "C:\\Users\\vanes\\Anaconda3\\lib\\site-packages\\ipykernel_launcher.py:3: SettingWithCopyWarning: \n",
      "A value is trying to be set on a copy of a slice from a DataFrame.\n",
      "Try using .loc[row_indexer,col_indexer] = value instead\n",
      "\n",
      "See the caveats in the documentation: http://pandas.pydata.org/pandas-docs/stable/indexing.html#indexing-view-versus-copy\n",
      "  This is separate from the ipykernel package so we can avoid doing imports until\n"
     ]
    }
   ],
   "source": [
    "creditos2['annual_inc'] = creditos2['annual_inc'].astype(int)\n",
    "creditos2['delinq_2yrs'] = creditos2['delinq_2yrs'].astype(int)\n",
    "creditos2['mths_since_last_delinq'] = creditos2['mths_since_last_delinq'].astype(int)"
   ]
  },
  {
   "cell_type": "code",
   "execution_count": 28,
   "metadata": {
    "colab": {
     "base_uri": "https://localhost:8080/"
    },
    "id": "0F-OFo7qYr2v",
    "outputId": "e68b1818-3253-4fa1-d329-5d0bdc04e131"
   },
   "outputs": [
    {
     "data": {
      "text/plain": [
       "id_cliente                   int64\n",
       "loan_status                 object\n",
       "loan_amnt                    int64\n",
       "installment                float64\n",
       "term                        object\n",
       "emp_title                   object\n",
       "emp_length                  object\n",
       "home_ownership              object\n",
       "annual_inc                   int32\n",
       "verification_status         object\n",
       "purpose                     object\n",
       "addr_state                  object\n",
       "delinq_2yrs                  int32\n",
       "next_pymnt_d                object\n",
       "earliest_cr_line            object\n",
       "mths_since_last_delinq       int32\n",
       "total_pymnt                float64\n",
       "recoveries                 float64\n",
       "collection_recovery_fee    float64\n",
       "last_pymnt_d                object\n",
       "settlement_status           object\n",
       "application_type            object\n",
       "tot_hi_cred_lim            float64\n",
       "risk_status                 object\n",
       "marca_mal_pagador            int64\n",
       "dtype: object"
      ]
     },
     "execution_count": 28,
     "metadata": {},
     "output_type": "execute_result"
    }
   ],
   "source": [
    "creditos2.dtypes"
   ]
  },
  {
   "cell_type": "markdown",
   "metadata": {
    "id": "7IGJJdcSqClH"
   },
   "source": [
    "**Convertir columnas de fecha a dt**\n",
    "\n",
    "Los cambios se hacen inplace, el formato es mes, año (%b-%Y)"
   ]
  },
  {
   "cell_type": "code",
   "execution_count": 29,
   "metadata": {
    "colab": {
     "base_uri": "https://localhost:8080/"
    },
    "id": "eYcQMSwAZi8-",
    "outputId": "d94757ad-172f-4d8c-aa98-5d779b3c39e9"
   },
   "outputs": [
    {
     "name": "stderr",
     "output_type": "stream",
     "text": [
      "C:\\Users\\vanes\\Anaconda3\\lib\\site-packages\\ipykernel_launcher.py:1: SettingWithCopyWarning: \n",
      "A value is trying to be set on a copy of a slice from a DataFrame.\n",
      "Try using .loc[row_indexer,col_indexer] = value instead\n",
      "\n",
      "See the caveats in the documentation: http://pandas.pydata.org/pandas-docs/stable/indexing.html#indexing-view-versus-copy\n",
      "  \"\"\"Entry point for launching an IPython kernel.\n",
      "C:\\Users\\vanes\\Anaconda3\\lib\\site-packages\\ipykernel_launcher.py:2: SettingWithCopyWarning: \n",
      "A value is trying to be set on a copy of a slice from a DataFrame.\n",
      "Try using .loc[row_indexer,col_indexer] = value instead\n",
      "\n",
      "See the caveats in the documentation: http://pandas.pydata.org/pandas-docs/stable/indexing.html#indexing-view-versus-copy\n",
      "  \n",
      "C:\\Users\\vanes\\Anaconda3\\lib\\site-packages\\ipykernel_launcher.py:3: SettingWithCopyWarning: \n",
      "A value is trying to be set on a copy of a slice from a DataFrame.\n",
      "Try using .loc[row_indexer,col_indexer] = value instead\n",
      "\n",
      "See the caveats in the documentation: http://pandas.pydata.org/pandas-docs/stable/indexing.html#indexing-view-versus-copy\n",
      "  This is separate from the ipykernel package so we can avoid doing imports until\n"
     ]
    }
   ],
   "source": [
    "creditos2['next_pymnt_d'] = pd.to_datetime(creditos2['next_pymnt_d'], format = '%b-%Y')\n",
    "creditos2['last_pymnt_d'] = pd.to_datetime(creditos2['last_pymnt_d'], format = '%b-%Y')\n",
    "creditos2['earliest_cr_line'] = pd.to_datetime(creditos2['earliest_cr_line'],format='%b-%Y')"
   ]
  },
  {
   "cell_type": "markdown",
   "metadata": {
    "id": "LLK5JJT7Uyls"
   },
   "source": [
    "# **Feature Transformation**"
   ]
  },
  {
   "cell_type": "code",
   "execution_count": 36,
   "metadata": {
    "colab": {
     "base_uri": "https://localhost:8080/"
    },
    "id": "B9iUjQkXlTSs",
    "outputId": "d8f3ae88-6590-47c6-d3e7-386a3a9c1c08"
   },
   "outputs": [
    {
     "data": {
      "text/plain": [
       "596125    1933-03-01\n",
       "1613074   1934-02-01\n",
       "1543630   1934-04-01\n",
       "1543216   1934-04-01\n",
       "501898    1941-08-01\n",
       "1340819   1944-01-01\n",
       "2054662   1944-01-01\n",
       "767741    1945-02-01\n",
       "2113603   1946-01-01\n",
       "1892865   1946-08-01\n",
       "537492    1946-12-01\n",
       "173631    1947-12-01\n",
       "2073228   1948-01-01\n",
       "771798    1948-01-01\n",
       "1997148   1949-06-01\n",
       "2185477   1949-06-01\n",
       "205337    1950-01-01\n",
       "955192    1950-01-01\n",
       "1631407   1950-01-01\n",
       "163105    1950-01-01\n",
       "1626293   1950-01-01\n",
       "1611740   1950-01-01\n",
       "420792    1950-01-01\n",
       "1134034   1950-01-01\n",
       "16216     1950-01-01\n",
       "230324    1950-01-01\n",
       "1622814   1950-01-01\n",
       "61006     1950-01-01\n",
       "2086260   1950-05-01\n",
       "17765     1950-07-01\n",
       "             ...    \n",
       "2813      2015-10-01\n",
       "9902      2015-11-01\n",
       "6215      2015-11-01\n",
       "19667     2015-11-01\n",
       "19759     2015-11-01\n",
       "30457     2015-11-01\n",
       "38013     2015-11-01\n",
       "32818     2015-11-01\n",
       "25460     2015-11-01\n",
       "12093     2015-11-01\n",
       "23424     2015-11-01\n",
       "19978     2015-11-01\n",
       "25629     2015-11-01\n",
       "31672     2015-11-01\n",
       "19813     2015-11-01\n",
       "18249     2015-11-01\n",
       "27307     2015-11-01\n",
       "16613     2015-11-01\n",
       "12694     2015-11-01\n",
       "17062     2015-11-01\n",
       "26216     2015-11-01\n",
       "35518     2015-11-01\n",
       "37861     2015-11-01\n",
       "27336     2015-11-01\n",
       "18698     2015-11-01\n",
       "34228     2015-11-01\n",
       "6028      2015-11-01\n",
       "11305     2015-11-01\n",
       "26955     2015-11-01\n",
       "16037     2015-11-01\n",
       "Name: earliest_cr_line, Length: 2260639, dtype: datetime64[ns]"
      ]
     },
     "execution_count": 36,
     "metadata": {},
     "output_type": "execute_result"
    }
   ],
   "source": [
    "creditos2.earliest_cr_line.sort_values()"
   ]
  },
  {
   "cell_type": "markdown",
   "metadata": {
    "id": "SShdS6vnkq5x"
   },
   "source": [
    "\n",
    "**Creación de variables categoricas**\n",
    "\n",
    "*Vintage del cliente*\n",
    "\n",
    "Después de cambiar tipo de dato earliest_cr_line a datetime, ordenar los valores, consultar el más antiguo y más reciente poder definir límites de categorías de vintage de clientes"
   ]
  },
  {
   "cell_type": "markdown",
   "metadata": {
    "id": "7izvd0cilZ_W"
   },
   "source": [
    "- Separar solo el año del datetime y definir limites para los bins de segmentacion, crear categorias very long, long term, established y new"
   ]
  },
  {
   "cell_type": "code",
   "execution_count": 37,
   "metadata": {
    "colab": {
     "base_uri": "https://localhost:8080/"
    },
    "id": "QQbw7jhble-l",
    "outputId": "0dddd4ae-cce7-4aa4-f72c-3967c67d46f4"
   },
   "outputs": [
    {
     "name": "stderr",
     "output_type": "stream",
     "text": [
      "C:\\Users\\vanes\\Anaconda3\\lib\\site-packages\\ipykernel_launcher.py:1: SettingWithCopyWarning: \n",
      "A value is trying to be set on a copy of a slice from a DataFrame.\n",
      "Try using .loc[row_indexer,col_indexer] = value instead\n",
      "\n",
      "See the caveats in the documentation: http://pandas.pydata.org/pandas-docs/stable/indexing.html#indexing-view-versus-copy\n",
      "  \"\"\"Entry point for launching an IPython kernel.\n"
     ]
    }
   ],
   "source": [
    "creditos2['vintage_cliente'] = pd.cut(creditos2.earliest_cr_line.dt.year, [1900, 1969,1985,2000,2010,2020], labels=['very long term', 'long term', 'established','mid-term ','new'])"
   ]
  },
  {
   "cell_type": "markdown",
   "metadata": {
    "id": "Swb7irQ4ltR4"
   },
   "source": [
    "*Social Class*\n",
    "\n",
    "Categoría basada en el nivel de ingresos del cliente\n",
    "\n",
    "- Se empleará para determinar un promedio de ingresos y hacer más sencilla la evaluación del ratio loan/income"
   ]
  },
  {
   "cell_type": "code",
   "execution_count": 38,
   "metadata": {
    "colab": {
     "base_uri": "https://localhost:8080/"
    },
    "id": "xTc7jArytyPp",
    "outputId": "99c95299-575b-4555-fa55-6d812c61cbf7"
   },
   "outputs": [
    {
     "name": "stderr",
     "output_type": "stream",
     "text": [
      "C:\\Users\\vanes\\Anaconda3\\lib\\site-packages\\ipykernel_launcher.py:1: SettingWithCopyWarning: \n",
      "A value is trying to be set on a copy of a slice from a DataFrame.\n",
      "Try using .loc[row_indexer,col_indexer] = value instead\n",
      "\n",
      "See the caveats in the documentation: http://pandas.pydata.org/pandas-docs/stable/indexing.html#indexing-view-versus-copy\n",
      "  \"\"\"Entry point for launching an IPython kernel.\n"
     ]
    }
   ],
   "source": [
    "creditos2['soc_class'] = pd.cut(creditos2.annual_inc,[-1,13000,35000,65000,130000,110000000], labels=['lower','working','middle','upper-middle','upper'])"
   ]
  },
  {
   "cell_type": "markdown",
   "metadata": {
    "id": "Sf4jJ7nGt8IH"
   },
   "source": [
    "Crear columna con ingresos promedio por cada categoria"
   ]
  },
  {
   "cell_type": "code",
   "execution_count": 39,
   "metadata": {
    "colab": {
     "base_uri": "https://localhost:8080/"
    },
    "id": "VH-P2yOjuB6w",
    "outputId": "9364cf2f-5fcb-41db-c568-b86a1ed74479"
   },
   "outputs": [
    {
     "name": "stderr",
     "output_type": "stream",
     "text": [
      "C:\\Users\\vanes\\Anaconda3\\lib\\site-packages\\ipykernel_launcher.py:1: SettingWithCopyWarning: \n",
      "A value is trying to be set on a copy of a slice from a DataFrame.\n",
      "Try using .loc[row_indexer,col_indexer] = value instead\n",
      "\n",
      "See the caveats in the documentation: http://pandas.pydata.org/pandas-docs/stable/indexing.html#indexing-view-versus-copy\n",
      "  \"\"\"Entry point for launching an IPython kernel.\n"
     ]
    }
   ],
   "source": [
    "creditos2['avg_annual_inc'] = (creditos2.groupby(['soc_class'])['annual_inc'].transform('mean')).astype(int)"
   ]
  },
  {
   "cell_type": "markdown",
   "metadata": {
    "id": "yxQzqwLNuLUP"
   },
   "source": [
    "Creacion de ratio loan/income para verificar nivel de deuda respecto a ingresos del cliente"
   ]
  },
  {
   "cell_type": "code",
   "execution_count": 40,
   "metadata": {
    "colab": {
     "base_uri": "https://localhost:8080/"
    },
    "id": "nRIV_rPPuS2g",
    "outputId": "8afff27b-37c8-4baa-e360-f84faca91548"
   },
   "outputs": [
    {
     "name": "stderr",
     "output_type": "stream",
     "text": [
      "C:\\Users\\vanes\\Anaconda3\\lib\\site-packages\\ipykernel_launcher.py:1: SettingWithCopyWarning: \n",
      "A value is trying to be set on a copy of a slice from a DataFrame.\n",
      "Try using .loc[row_indexer,col_indexer] = value instead\n",
      "\n",
      "See the caveats in the documentation: http://pandas.pydata.org/pandas-docs/stable/indexing.html#indexing-view-versus-copy\n",
      "  \"\"\"Entry point for launching an IPython kernel.\n"
     ]
    }
   ],
   "source": [
    "creditos2['loan/income'] = (creditos2['loan_amnt'] / creditos2['avg_annual_inc']).round(2)"
   ]
  },
  {
   "cell_type": "markdown",
   "metadata": {
    "id": "LLK5JJT7Uyls"
   },
   "source": [
    "# **Correlation Analysis**"
   ]
  },
  {
   "cell_type": "markdown",
   "metadata": {
    "id": "HELvSMCqEzDK"
   },
   "source": [
    "1. Identifique si tiene variables correlacionadas"
   ]
  },
  {
   "cell_type": "markdown",
   "metadata": {},
   "source": [
    "BOX PLOT --- TERMINO DE PRESTAMO Y CANTIDAD   "
   ]
  },
  {
   "cell_type": "markdown",
   "metadata": {},
   "source": [
    "solo con matriz malos pagadores"
   ]
  },
  {
   "cell_type": "code",
   "execution_count": 41,
   "metadata": {},
   "outputs": [
    {
     "ename": "KeyError",
     "evalue": "\"['debt_coverage'] not in index\"",
     "output_type": "error",
     "traceback": [
      "\u001b[1;31m---------------------------------------------------------------------------\u001b[0m",
      "\u001b[1;31mKeyError\u001b[0m                                  Traceback (most recent call last)",
      "\u001b[1;32m<ipython-input-41-1f9127628587>\u001b[0m in \u001b[0;36m<module>\u001b[1;34m\u001b[0m\n\u001b[1;32m----> 1\u001b[1;33m \u001b[0mnew_view\u001b[0m \u001b[1;33m=\u001b[0m \u001b[0mcreditos2\u001b[0m\u001b[1;33m[\u001b[0m\u001b[1;33m[\u001b[0m\u001b[1;34m'annual_inc'\u001b[0m\u001b[1;33m,\u001b[0m\u001b[1;34m'installment'\u001b[0m\u001b[1;33m,\u001b[0m\u001b[1;34m'marca_mal_pagador'\u001b[0m\u001b[1;33m,\u001b[0m\u001b[1;34m'mths_since_last_delinq'\u001b[0m\u001b[1;33m,\u001b[0m\u001b[1;34m'delinq_2yrs'\u001b[0m\u001b[1;33m,\u001b[0m\u001b[1;34m'recoveries'\u001b[0m\u001b[1;33m,\u001b[0m\u001b[1;34m'collection_recovery_fee'\u001b[0m\u001b[1;33m,\u001b[0m\u001b[1;34m'loan/income'\u001b[0m\u001b[1;33m,\u001b[0m\u001b[1;34m'debt_coverage'\u001b[0m\u001b[1;33m]\u001b[0m\u001b[1;33m]\u001b[0m\u001b[1;33m\u001b[0m\u001b[1;33m\u001b[0m\u001b[0m\n\u001b[0m",
      "\u001b[1;32m~\\Anaconda3\\lib\\site-packages\\pandas\\core\\frame.py\u001b[0m in \u001b[0;36m__getitem__\u001b[1;34m(self, key)\u001b[0m\n\u001b[0;32m   2680\u001b[0m         \u001b[1;32mif\u001b[0m \u001b[0misinstance\u001b[0m\u001b[1;33m(\u001b[0m\u001b[0mkey\u001b[0m\u001b[1;33m,\u001b[0m \u001b[1;33m(\u001b[0m\u001b[0mSeries\u001b[0m\u001b[1;33m,\u001b[0m \u001b[0mnp\u001b[0m\u001b[1;33m.\u001b[0m\u001b[0mndarray\u001b[0m\u001b[1;33m,\u001b[0m \u001b[0mIndex\u001b[0m\u001b[1;33m,\u001b[0m \u001b[0mlist\u001b[0m\u001b[1;33m)\u001b[0m\u001b[1;33m)\u001b[0m\u001b[1;33m:\u001b[0m\u001b[1;33m\u001b[0m\u001b[1;33m\u001b[0m\u001b[0m\n\u001b[0;32m   2681\u001b[0m             \u001b[1;31m# either boolean or fancy integer index\u001b[0m\u001b[1;33m\u001b[0m\u001b[1;33m\u001b[0m\u001b[1;33m\u001b[0m\u001b[0m\n\u001b[1;32m-> 2682\u001b[1;33m             \u001b[1;32mreturn\u001b[0m \u001b[0mself\u001b[0m\u001b[1;33m.\u001b[0m\u001b[0m_getitem_array\u001b[0m\u001b[1;33m(\u001b[0m\u001b[0mkey\u001b[0m\u001b[1;33m)\u001b[0m\u001b[1;33m\u001b[0m\u001b[1;33m\u001b[0m\u001b[0m\n\u001b[0m\u001b[0;32m   2683\u001b[0m         \u001b[1;32melif\u001b[0m \u001b[0misinstance\u001b[0m\u001b[1;33m(\u001b[0m\u001b[0mkey\u001b[0m\u001b[1;33m,\u001b[0m \u001b[0mDataFrame\u001b[0m\u001b[1;33m)\u001b[0m\u001b[1;33m:\u001b[0m\u001b[1;33m\u001b[0m\u001b[1;33m\u001b[0m\u001b[0m\n\u001b[0;32m   2684\u001b[0m             \u001b[1;32mreturn\u001b[0m \u001b[0mself\u001b[0m\u001b[1;33m.\u001b[0m\u001b[0m_getitem_frame\u001b[0m\u001b[1;33m(\u001b[0m\u001b[0mkey\u001b[0m\u001b[1;33m)\u001b[0m\u001b[1;33m\u001b[0m\u001b[1;33m\u001b[0m\u001b[0m\n",
      "\u001b[1;32m~\\Anaconda3\\lib\\site-packages\\pandas\\core\\frame.py\u001b[0m in \u001b[0;36m_getitem_array\u001b[1;34m(self, key)\u001b[0m\n\u001b[0;32m   2724\u001b[0m             \u001b[1;32mreturn\u001b[0m \u001b[0mself\u001b[0m\u001b[1;33m.\u001b[0m\u001b[0m_take\u001b[0m\u001b[1;33m(\u001b[0m\u001b[0mindexer\u001b[0m\u001b[1;33m,\u001b[0m \u001b[0maxis\u001b[0m\u001b[1;33m=\u001b[0m\u001b[1;36m0\u001b[0m\u001b[1;33m)\u001b[0m\u001b[1;33m\u001b[0m\u001b[1;33m\u001b[0m\u001b[0m\n\u001b[0;32m   2725\u001b[0m         \u001b[1;32melse\u001b[0m\u001b[1;33m:\u001b[0m\u001b[1;33m\u001b[0m\u001b[1;33m\u001b[0m\u001b[0m\n\u001b[1;32m-> 2726\u001b[1;33m             \u001b[0mindexer\u001b[0m \u001b[1;33m=\u001b[0m \u001b[0mself\u001b[0m\u001b[1;33m.\u001b[0m\u001b[0mloc\u001b[0m\u001b[1;33m.\u001b[0m\u001b[0m_convert_to_indexer\u001b[0m\u001b[1;33m(\u001b[0m\u001b[0mkey\u001b[0m\u001b[1;33m,\u001b[0m \u001b[0maxis\u001b[0m\u001b[1;33m=\u001b[0m\u001b[1;36m1\u001b[0m\u001b[1;33m)\u001b[0m\u001b[1;33m\u001b[0m\u001b[1;33m\u001b[0m\u001b[0m\n\u001b[0m\u001b[0;32m   2727\u001b[0m             \u001b[1;32mreturn\u001b[0m \u001b[0mself\u001b[0m\u001b[1;33m.\u001b[0m\u001b[0m_take\u001b[0m\u001b[1;33m(\u001b[0m\u001b[0mindexer\u001b[0m\u001b[1;33m,\u001b[0m \u001b[0maxis\u001b[0m\u001b[1;33m=\u001b[0m\u001b[1;36m1\u001b[0m\u001b[1;33m)\u001b[0m\u001b[1;33m\u001b[0m\u001b[1;33m\u001b[0m\u001b[0m\n\u001b[0;32m   2728\u001b[0m \u001b[1;33m\u001b[0m\u001b[0m\n",
      "\u001b[1;32m~\\Anaconda3\\lib\\site-packages\\pandas\\core\\indexing.py\u001b[0m in \u001b[0;36m_convert_to_indexer\u001b[1;34m(self, obj, axis, is_setter)\u001b[0m\n\u001b[0;32m   1325\u001b[0m                 \u001b[1;32mif\u001b[0m \u001b[0mmask\u001b[0m\u001b[1;33m.\u001b[0m\u001b[0many\u001b[0m\u001b[1;33m(\u001b[0m\u001b[1;33m)\u001b[0m\u001b[1;33m:\u001b[0m\u001b[1;33m\u001b[0m\u001b[1;33m\u001b[0m\u001b[0m\n\u001b[0;32m   1326\u001b[0m                     raise KeyError('{mask} not in index'\n\u001b[1;32m-> 1327\u001b[1;33m                                    .format(mask=objarr[mask]))\n\u001b[0m\u001b[0;32m   1328\u001b[0m \u001b[1;33m\u001b[0m\u001b[0m\n\u001b[0;32m   1329\u001b[0m                 \u001b[1;32mreturn\u001b[0m \u001b[0mcom\u001b[0m\u001b[1;33m.\u001b[0m\u001b[0m_values_from_object\u001b[0m\u001b[1;33m(\u001b[0m\u001b[0mindexer\u001b[0m\u001b[1;33m)\u001b[0m\u001b[1;33m\u001b[0m\u001b[1;33m\u001b[0m\u001b[0m\n",
      "\u001b[1;31mKeyError\u001b[0m: \"['debt_coverage'] not in index\""
     ]
    }
   ],
   "source": [
    "new_view = creditos2[['annual_inc','installment','marca_mal_pagador','mths_since_last_delinq','delinq_2yrs','recoveries','collection_recovery_fee','loan/income','debt_coverage']]"
   ]
  },
  {
   "cell_type": "code",
   "execution_count": 42,
   "metadata": {},
   "outputs": [
    {
     "ename": "NameError",
     "evalue": "name 'new_view' is not defined",
     "output_type": "error",
     "traceback": [
      "\u001b[1;31m---------------------------------------------------------------------------\u001b[0m",
      "\u001b[1;31mNameError\u001b[0m                                 Traceback (most recent call last)",
      "\u001b[1;32m<ipython-input-42-fa4a850c3ea8>\u001b[0m in \u001b[0;36m<module>\u001b[1;34m\u001b[0m\n\u001b[1;32m----> 1\u001b[1;33m \u001b[0mcorr_matrix\u001b[0m \u001b[1;33m=\u001b[0m \u001b[0mnew_view\u001b[0m\u001b[1;33m.\u001b[0m\u001b[0mcorr\u001b[0m\u001b[1;33m(\u001b[0m\u001b[0mmethod\u001b[0m\u001b[1;33m=\u001b[0m\u001b[1;34m'spearman'\u001b[0m\u001b[1;33m,\u001b[0m\u001b[0mnumeric_only\u001b[0m\u001b[1;33m=\u001b[0m\u001b[1;32mTrue\u001b[0m\u001b[1;33m)\u001b[0m\u001b[1;33m\u001b[0m\u001b[1;33m\u001b[0m\u001b[0m\n\u001b[0m",
      "\u001b[1;31mNameError\u001b[0m: name 'new_view' is not defined"
     ]
    }
   ],
   "source": [
    "corr_matrix = new_view.corr(method='spearman',numeric_only=True)"
   ]
  },
  {
   "cell_type": "code",
   "execution_count": 43,
   "metadata": {},
   "outputs": [
    {
     "ename": "NameError",
     "evalue": "name 'corr_matrix' is not defined",
     "output_type": "error",
     "traceback": [
      "\u001b[1;31m---------------------------------------------------------------------------\u001b[0m",
      "\u001b[1;31mNameError\u001b[0m                                 Traceback (most recent call last)",
      "\u001b[1;32m<ipython-input-43-9902f07d0069>\u001b[0m in \u001b[0;36m<module>\u001b[1;34m\u001b[0m\n\u001b[1;32m----> 1\u001b[1;33m \u001b[0msns\u001b[0m\u001b[1;33m.\u001b[0m\u001b[0mheatmap\u001b[0m\u001b[1;33m(\u001b[0m\u001b[0mcorr_matrix\u001b[0m\u001b[1;33m,\u001b[0m \u001b[0mannot\u001b[0m\u001b[1;33m=\u001b[0m\u001b[1;32mTrue\u001b[0m\u001b[1;33m,\u001b[0m\u001b[0mcmap\u001b[0m\u001b[1;33m=\u001b[0m\u001b[1;34m'coolwarm'\u001b[0m\u001b[1;33m,\u001b[0m \u001b[0mcenter\u001b[0m\u001b[1;33m=\u001b[0m\u001b[1;36m0\u001b[0m\u001b[1;33m)\u001b[0m\u001b[1;33m\u001b[0m\u001b[1;33m\u001b[0m\u001b[0m\n\u001b[0m",
      "\u001b[1;31mNameError\u001b[0m: name 'corr_matrix' is not defined"
     ]
    }
   ],
   "source": [
    "sns.heatmap(corr_matrix, annot=True,cmap='coolwarm', center=0)"
   ]
  },
  {
   "cell_type": "markdown",
   "metadata": {},
   "source": [
    "2. En caso de ser así, encuentre una explicación lógica para esa correlación. Si no\n",
    "encuentra un argumento, puede mencionarlo."
   ]
  },
  {
   "cell_type": "markdown",
   "metadata": {
    "id": "LLK5JJT7Uyls"
   },
   "source": [
    "# **Análisis descriptivo**"
   ]
  },
  {
   "cell_type": "markdown",
   "metadata": {},
   "source": [
    "1. Usando estatísticos descriptivos univariados, analice las variables que considere\n",
    "relevantes y aportan información."
   ]
  },
  {
   "cell_type": "markdown",
   "metadata": {},
   "source": [
    " loan/income para verificar nivel de deuda respecto a ingresos del cliente"
   ]
  },
  {
   "cell_type": "code",
   "execution_count": 44,
   "metadata": {},
   "outputs": [
    {
     "ename": "AttributeError",
     "evalue": "module 'seaborn' has no attribute 'histplot'",
     "output_type": "error",
     "traceback": [
      "\u001b[1;31m---------------------------------------------------------------------------\u001b[0m",
      "\u001b[1;31mAttributeError\u001b[0m                            Traceback (most recent call last)",
      "\u001b[1;32m<ipython-input-44-817f7c7bbaff>\u001b[0m in \u001b[0;36m<module>\u001b[1;34m\u001b[0m\n\u001b[0;32m      3\u001b[0m \u001b[1;31m# Crear el histograma usando Seaborn\u001b[0m\u001b[1;33m\u001b[0m\u001b[1;33m\u001b[0m\u001b[1;33m\u001b[0m\u001b[0m\n\u001b[0;32m      4\u001b[0m \u001b[0mplt\u001b[0m\u001b[1;33m.\u001b[0m\u001b[0mfigure\u001b[0m\u001b[1;33m(\u001b[0m\u001b[0mfigsize\u001b[0m\u001b[1;33m=\u001b[0m\u001b[1;33m(\u001b[0m\u001b[1;36m8\u001b[0m\u001b[1;33m,\u001b[0m \u001b[1;36m6\u001b[0m\u001b[1;33m)\u001b[0m\u001b[1;33m)\u001b[0m\u001b[1;33m\u001b[0m\u001b[1;33m\u001b[0m\u001b[0m\n\u001b[1;32m----> 5\u001b[1;33m \u001b[0msns\u001b[0m\u001b[1;33m.\u001b[0m\u001b[0mhistplot\u001b[0m\u001b[1;33m(\u001b[0m\u001b[0mcreditos2\u001b[0m\u001b[1;33m[\u001b[0m\u001b[1;34m'loan/income'\u001b[0m\u001b[1;33m]\u001b[0m\u001b[1;33m,\u001b[0m \u001b[0mbins\u001b[0m\u001b[1;33m=\u001b[0m\u001b[1;36m10\u001b[0m\u001b[1;33m,\u001b[0m \u001b[0mbinrange\u001b[0m\u001b[1;33m=\u001b[0m\u001b[1;33m(\u001b[0m\u001b[1;36m0\u001b[0m\u001b[1;33m,\u001b[0m \u001b[1;36m1\u001b[0m\u001b[1;33m)\u001b[0m\u001b[1;33m,\u001b[0m \u001b[0mkde\u001b[0m\u001b[1;33m=\u001b[0m\u001b[1;32mTrue\u001b[0m\u001b[1;33m)\u001b[0m\u001b[1;33m\u001b[0m\u001b[1;33m\u001b[0m\u001b[0m\n\u001b[0m\u001b[0;32m      6\u001b[0m \u001b[1;33m\u001b[0m\u001b[0m\n\u001b[0;32m      7\u001b[0m \u001b[1;31m# Agregar títulos y etiquetas\u001b[0m\u001b[1;33m\u001b[0m\u001b[1;33m\u001b[0m\u001b[1;33m\u001b[0m\u001b[0m\n",
      "\u001b[1;31mAttributeError\u001b[0m: module 'seaborn' has no attribute 'histplot'"
     ]
    },
    {
     "data": {
      "text/plain": [
       "<Figure size 576x432 with 0 Axes>"
      ]
     },
     "metadata": {},
     "output_type": "display_data"
    }
   ],
   "source": [
    "sns.set(style=\"whitegrid\")\n",
    "\n",
    "# Crear el histograma usando Seaborn\n",
    "plt.figure(figsize=(8, 6))\n",
    "sns.histplot(creditos2['loan/income'], bins=10, binrange=(0, 1), kde=True)\n",
    "\n",
    "# Agregar títulos y etiquetas\n",
    "plt.title('Histograma de Valores con Loan/Income')\n",
    "plt.xlabel('Valores')\n",
    "plt.ylabel('Frecuencia')\n",
    "\n",
    "# Ajustar el rango del eje Y\n",
    "plt.xlim(0, 1)\n",
    "\n",
    "# Mostrar el gráfico\n",
    "plt.show()"
   ]
  },
  {
   "cell_type": "markdown",
   "metadata": {},
   "source": [
    "2. Usando estatísticos descriptivos bivariados, analice las variables que considere\n",
    "relevantes y aportan información."
   ]
  },
  {
   "cell_type": "code",
   "execution_count": null,
   "metadata": {},
   "outputs": [],
   "source": [
    "# Crear la tabla de contingencia\n",
    "contingencia = pd.crosstab(creditos2['soc_class'], creditos2['marca_mal_pagador'])\n",
    "\n",
    "# Ajustar el estilo del gráfico\n",
    "sns.set(style=\"whitegrid\")\n",
    "\n",
    "# Crear el heatmap usando Seaborn\n",
    "plt.figure(figsize=(8, 6))\n",
    "sns.heatmap(contingencia, annot=True, cmap=\"YlGnBu\")\n",
    "\n",
    "# Agregar títulos y etiquetas\n",
    "plt.title('Gráfico de Contingencia')\n",
    "plt.xlabel('Marca Mal Pagador')\n",
    "plt.ylabel('Clase Social')\n",
    "\n",
    "# Mostrar el gráfico\n",
    "plt.show()"
   ]
  },
  {
   "cell_type": "code",
   "execution_count": null,
   "metadata": {},
   "outputs": [],
   "source": [
    "# Crear la tabla de contingencia\n",
    "tabla_cruzada = pd.crosstab(creditos2['vintage_cliente'], creditos2['marca_mal_pagador'])\n",
    "\n",
    "# Ajustar el estilo del gráfico\n",
    "sns.set(style=\"whitegrid\")\n",
    "\n",
    "# Crear el heatmap usando Seaborn\n",
    "plt.figure(figsize=(8, 6))\n",
    "sns.heatmap(tabla_cruzada, annot=True, cmap=\"YlGnBu\", fmt='d')\n",
    "\n",
    "# Agregar títulos y etiquetas\n",
    "plt.title('Tabla Cruzada')\n",
    "plt.xlabel('Marca mal Pagador')\n",
    "plt.ylabel('Vintage Client')\n",
    "\n",
    "# Mostrar el gráfico\n",
    "plt.show()"
   ]
  },
  {
   "cell_type": "code",
   "execution_count": null,
   "metadata": {},
   "outputs": [],
   "source": [
    "pd.crosstab(creditos2['emp_title'], creditos2['marca_mal_pagador'])"
   ]
  },
  {
   "cell_type": "code",
   "execution_count": null,
   "metadata": {},
   "outputs": [],
   "source": [
    "tabla_cruzada_estado = pd.crosstab(creditos2['addr_state'], creditos2['marca_mal_pagador'], margins=True, margins_name='Total')"
   ]
  },
  {
   "cell_type": "code",
   "execution_count": null,
   "metadata": {},
   "outputs": [],
   "source": [
    "tabla_cruzada_estado"
   ]
  },
  {
   "cell_type": "markdown",
   "metadata": {},
   "source": [
    "3. Con variables categóricas, realice análisis con tablas cruzadas."
   ]
  },
  {
   "cell_type": "code",
   "execution_count": null,
   "metadata": {},
   "outputs": [],
   "source": [
    "sns.set(style=\"whitegrid\")\n",
    "\n",
    "# Crear el countplot usando Seaborn\n",
    "plt.figure(figsize=(30, 8))\n",
    "sns.countplot(data=creditos2, x='addr_state', hue='marca_mal_pagador')\n",
    "\n",
    "# Agregar títulos y etiquetas\n",
    "plt.title('Conteo de Mal Pagadores por Estado')\n",
    "plt.xlabel('Estado')\n",
    "plt.ylabel('Conteo')"
   ]
  },
  {
   "cell_type": "code",
   "execution_count": null,
   "metadata": {},
   "outputs": [],
   "source": [
    "tabla_contingencia = pd.crosstab(creditos2['soc_class'], creditos2['marca_mal_pagador'])"
   ]
  },
  {
   "cell_type": "code",
   "execution_count": null,
   "metadata": {},
   "outputs": [],
   "source": [
    "print(tabla_contingencia)"
   ]
  },
  {
   "cell_type": "code",
   "execution_count": null,
   "metadata": {},
   "outputs": [],
   "source": [
    "tabla_contingencia.plot(kind='bar', stacked=True)"
   ]
  },
  {
   "cell_type": "code",
   "execution_count": null,
   "metadata": {},
   "outputs": [],
   "source": [
    "boxplot = sns.boxplot(x='emp_title', y='marca_mal_pagador', data=creditos2)"
   ]
  },
  {
   "cell_type": "code",
   "execution_count": null,
   "metadata": {},
   "outputs": [],
   "source": [
    "print(boxplot)"
   ]
  },
  {
   "cell_type": "markdown",
   "metadata": {},
   "source": [
    "GRAFICOS ESTADISTICOS RELACIONADOS AL COMPORTAMIENTO DE MALOS PAGADORES"
   ]
  },
  {
   "cell_type": "code",
   "execution_count": null,
   "metadata": {},
   "outputs": [],
   "source": [
    "sns.histplot(credito_df,x='risk_status',hue='loan_status')    #estados de prestamo y riesgo bajo o alto"
   ]
  },
  {
   "cell_type": "code",
   "execution_count": null,
   "metadata": {},
   "outputs": [],
   "source": [
    "sns.displot(credito_df,x='mths_since_last_delinq',hue='risk_status',kind='kde')    #meses desde  ultimo atraso. menor para malos pagadores"
   ]
  },
  {
   "cell_type": "code",
   "execution_count": null,
   "metadata": {},
   "outputs": [],
   "source": [
    "sns.displot(credito_df,x='delinq_2yrs',hue='risk_status',kind='kde')    #riesgo vs. record de pago ultimos dos años"
   ]
  },
  {
   "cell_type": "code",
   "execution_count": null,
   "metadata": {},
   "outputs": [],
   "source": [
    "Analisis de malos pagadores"
   ]
  },
  {
   "cell_type": "code",
   "execution_count": null,
   "metadata": {},
   "outputs": [],
   "source": [
    "tabla_contingencia = pd.crosstab(creditos2['soc_class'], creditos2['marca_mal_pagador'])"
   ]
  },
  {
   "cell_type": "code",
   "execution_count": null,
   "metadata": {},
   "outputs": [],
   "source": [
    "print(tabla_contingencia)"
   ]
  },
  {
   "cell_type": "code",
   "execution_count": null,
   "metadata": {},
   "outputs": [],
   "source": [
    "tabla_contingencia.plot(kind='bar', stacked=True)"
   ]
  },
  {
   "cell_type": "code",
   "execution_count": null,
   "metadata": {},
   "outputs": [],
   "source": [
    "boxplot = sns.boxplot(x='emp_title', y='marca_mal_pagador', data=creditos2)"
   ]
  },
  {
   "cell_type": "code",
   "execution_count": null,
   "metadata": {},
   "outputs": [],
   "source": [
    "print(boxplot)"
   ]
  },
  {
   "cell_type": "code",
   "execution_count": null,
   "metadata": {},
   "outputs": [],
   "source": [
    "malos_pagadores = creditos2[creditos2['marca_mal_pagador']==1]"
   ]
  },
  {
   "cell_type": "code",
   "execution_count": null,
   "metadata": {},
   "outputs": [],
   "source": [
    "sns.boxplot(malos_pagadores, x='term', y = 'loan_amnt', color='olive')"
   ]
  }
 ],
 "metadata": {
  "colab": {
   "provenance": []
  },
  "kernelspec": {
   "display_name": "Python 3",
   "language": "python",
   "name": "python3"
  },
  "language_info": {
   "codemirror_mode": {
    "name": "ipython",
    "version": 3
   },
   "file_extension": ".py",
   "mimetype": "text/x-python",
   "name": "python",
   "nbconvert_exporter": "python",
   "pygments_lexer": "ipython3",
   "version": "3.7.1"
  }
 },
 "nbformat": 4,
 "nbformat_minor": 4
}
