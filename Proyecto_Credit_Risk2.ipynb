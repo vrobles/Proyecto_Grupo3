{
  "nbformat": 4,
  "nbformat_minor": 0,
  "metadata": {
    "colab": {
      "provenance": []
    },
    "kernelspec": {
      "name": "python3",
      "display_name": "Python 3"
    },
    "language_info": {
      "name": "python"
    }
  },
  "cells": [
    {
      "cell_type": "markdown",
      "source": [
        "Import de módulos para el proyecto"
      ],
      "metadata": {
        "id": "UJv7qbTNWZ2m"
      }
    },
    {
      "cell_type": "code",
      "execution_count": 2,
      "metadata": {
        "id": "WPuHFQgSWUR4"
      },
      "outputs": [],
      "source": [
        "import pandas as pd\n",
        "import seaborn as sns\n",
        "import matplotlib.pyplot as plt\n",
        "import numpy as np"
      ]
    },
    {
      "cell_type": "markdown",
      "source": [
        "Conexión con Google Drive para acceder al archivo"
      ],
      "metadata": {
        "id": "isDTeWMOWzvF"
      }
    },
    {
      "cell_type": "code",
      "source": [
        "credito_df = pd.read_csv('/content/drive/MyDrive/Bootcamp/Proyecto Produbanco - Coding para procesamiento/creditos_historicos.csv', low_memory=False)"
      ],
      "metadata": {
        "id": "lKPmFFI5W-Ta"
      },
      "execution_count": 3,
      "outputs": []
    },
    {
      "cell_type": "markdown",
      "source": [
        "Consultar tamaño del dataframe para saber numero de observaciones y series --- 2260668 observaciones, 23 variables"
      ],
      "metadata": {
        "id": "aH-v2ZX_XYaH"
      }
    },
    {
      "cell_type": "code",
      "source": [
        "credito_df.shape"
      ],
      "metadata": {
        "colab": {
          "base_uri": "https://localhost:8080/"
        },
        "id": "X06PAQ20Xdhu",
        "outputId": "2c41baa0-857f-458c-d3ce-3fb392be6967"
      },
      "execution_count": 4,
      "outputs": [
        {
          "output_type": "execute_result",
          "data": {
            "text/plain": [
              "(2260668, 23)"
            ]
          },
          "metadata": {},
          "execution_count": 4
        }
      ]
    },
    {
      "cell_type": "markdown",
      "source": [
        "#**Definicion de mal pagador**"
      ],
      "metadata": {
        "id": "jJhRTyekX64K"
      }
    },
    {
      "cell_type": "markdown",
      "source": [
        "Consultar los estados del crédito de cada cliente para crear categorías de riesgo. Ej. Fully Paid representa riesgo bajo, Late es de riesgo alto\n",
        "\n",
        "Crear función que clasifique estos estados en riesgo alto o bajo"
      ],
      "metadata": {
        "id": "PwbeFdaTYBhc"
      }
    },
    {
      "cell_type": "code",
      "source": [
        "credito_df['loan_status'].value_counts()"
      ],
      "metadata": {
        "colab": {
          "base_uri": "https://localhost:8080/"
        },
        "id": "nnizyyOHYOeC",
        "outputId": "14102429-3cfc-43b6-df0a-aabfc6798c1a"
      },
      "execution_count": 5,
      "outputs": [
        {
          "output_type": "execute_result",
          "data": {
            "text/plain": [
              "loan_status\n",
              "Fully Paid                                             1041952\n",
              "Current                                                 919695\n",
              "Charged Off                                             261655\n",
              "Late (31-120 days)                                       21897\n",
              "In Grace Period                                           8952\n",
              "Late (16-30 days)                                         3737\n",
              "Does not meet the credit policy. Status:Fully Paid        1988\n",
              "Does not meet the credit policy. Status:Charged Off        761\n",
              "Default                                                     31\n",
              "Name: count, dtype: int64"
            ]
          },
          "metadata": {},
          "execution_count": 5
        }
      ]
    },
    {
      "cell_type": "code",
      "source": [
        "def status_riesgo(status):\n",
        "    if status in ['Fully Paid', 'Current', 'In Grace Period']:\n",
        "       return 'low risk'\n",
        "    else:\n",
        "       return 'high risk'"
      ],
      "metadata": {
        "id": "YkGCATlia6aH"
      },
      "execution_count": 6,
      "outputs": []
    },
    {
      "cell_type": "markdown",
      "source": [
        "Crear nueva columna de riesgo según el estado del credito"
      ],
      "metadata": {
        "id": "_XbJr1fAcz8M"
      }
    },
    {
      "cell_type": "code",
      "source": [
        "credito_df['risk_status'] = credito_df['loan_status'].apply(lambda x:status_riesgo(x))"
      ],
      "metadata": {
        "id": "30NqFYcMc--0"
      },
      "execution_count": 7,
      "outputs": []
    },
    {
      "cell_type": "markdown",
      "source": [
        "En esta nueva serie, las observaciones son 1970599 riesgo bajo y 290069 riesgo alto"
      ],
      "metadata": {
        "id": "H3-2uqUjd1Bk"
      }
    },
    {
      "cell_type": "code",
      "source": [
        "credito_df['risk_status'].value_counts()"
      ],
      "metadata": {
        "colab": {
          "base_uri": "https://localhost:8080/"
        },
        "id": "wSEB60uAfX4Z",
        "outputId": "3cae90cb-e273-457f-b321-cb9388c3bf3b"
      },
      "execution_count": 8,
      "outputs": [
        {
          "output_type": "execute_result",
          "data": {
            "text/plain": [
              "risk_status\n",
              "low risk     1970599\n",
              "high risk     290069\n",
              "Name: count, dtype: int64"
            ]
          },
          "metadata": {},
          "execution_count": 8
        }
      ]
    },
    {
      "cell_type": "markdown",
      "source": [
        "Definir función para evaluar malos pagadores según tres parámetros: riesgo_status, meses desde la última vez que cayeron en mora y las veces que estuvieron en mora en los últimos dos años.\n",
        "\n",
        "Ej. Si el pagador tiene riesgo bajo y ha pasado más de un mes, mal pagador. Si en los últimos dos años, estuvo en mora más de 2 veces, mal pagador"
      ],
      "metadata": {
        "id": "JNtwrU36f3O2"
      }
    },
    {
      "cell_type": "code",
      "source": [
        "def marca(riesgo,meses,record2yrs):\n",
        "    if (riesgo == 'high risk') or (riesgo == 'low risk' and meses <6) or (record2yrs >2):\n",
        "       return 1\n",
        "    else:\n",
        "       return 0"
      ],
      "metadata": {
        "id": "AnWahyBAhgrc"
      },
      "execution_count": 12,
      "outputs": []
    },
    {
      "cell_type": "markdown",
      "source": [
        "Crear serie aplicando la función definida anteriormente"
      ],
      "metadata": {
        "id": "xxj0oCPVtX9m"
      }
    },
    {
      "cell_type": "code",
      "source": [
        "credito_df['marca_mal_pagador'] = credito_df.apply(lambda x: marca(riesgo=x['risk_status'],meses=x['mths_since_last_delinq'], record2yrs=x['delinq_2yrs']), axis =1)"
      ],
      "metadata": {
        "id": "x-Od94rYtcX6"
      },
      "execution_count": 13,
      "outputs": []
    },
    {
      "cell_type": "markdown",
      "source": [
        "Existen 384384 clientes marcados como malos pagadores"
      ],
      "metadata": {
        "id": "1OiIXWqRt61P"
      }
    },
    {
      "cell_type": "code",
      "source": [
        "credito_df['marca_mal_pagador'].value_counts()"
      ],
      "metadata": {
        "id": "t2G1ptgtt-25",
        "colab": {
          "base_uri": "https://localhost:8080/"
        },
        "outputId": "61fa5c80-e9ac-4306-f42d-2fd95365f8d7"
      },
      "execution_count": 14,
      "outputs": [
        {
          "output_type": "execute_result",
          "data": {
            "text/plain": [
              "marca_mal_pagador\n",
              "0    1876284\n",
              "1     384384\n",
              "Name: count, dtype: int64"
            ]
          },
          "metadata": {},
          "execution_count": 14
        }
      ]
    },
    {
      "cell_type": "markdown",
      "source": [
        "#**Data Quality**\n",
        "\n",
        "*Duplicados*\n",
        "\n",
        "Para evaluar duplicados en este df revisaremos el id_cliente, ya que las otras variables podrían estar repetidas sin que signifique registro duplicado"
      ],
      "metadata": {
        "id": "QB4TtoUouFI9"
      }
    },
    {
      "cell_type": "code",
      "source": [
        "credito_df['id_cliente']. duplicated().value_counts()"
      ],
      "metadata": {
        "colab": {
          "base_uri": "https://localhost:8080/"
        },
        "id": "CYRlOW-3uY2W",
        "outputId": "d35f96c2-6a55-4b31-9215-29c4dcaf6f60"
      },
      "execution_count": 15,
      "outputs": [
        {
          "output_type": "execute_result",
          "data": {
            "text/plain": [
              "id_cliente\n",
              "False    2260668\n",
              "Name: count, dtype: int64"
            ]
          },
          "metadata": {},
          "execution_count": 15
        }
      ]
    },
    {
      "cell_type": "markdown",
      "source": [
        "No existen duplicados, no necesita procesamiento adicional"
      ],
      "metadata": {
        "id": "oHo3aMzZugAQ"
      }
    },
    {
      "cell_type": "markdown",
      "source": [
        "*Nulos*\n",
        "\n",
        "Consultar nulos (valores NaN)\n",
        "\n",
        "- isnull().any() retorna un detalle de columnas con nulos en todo el df"
      ],
      "metadata": {
        "id": "0KsQx4FXusrK"
      }
    },
    {
      "cell_type": "code",
      "source": [
        "credito_df.isnull().any()"
      ],
      "metadata": {
        "colab": {
          "base_uri": "https://localhost:8080/"
        },
        "id": "ZacgjnNWu2z8",
        "outputId": "21cbf0f9-265b-4e3e-d3ff-022ab11796d5"
      },
      "execution_count": 16,
      "outputs": [
        {
          "output_type": "execute_result",
          "data": {
            "text/plain": [
              "id_cliente                 False\n",
              "loan_status                False\n",
              "loan_amnt                  False\n",
              "installment                False\n",
              "term                       False\n",
              "emp_title                   True\n",
              "emp_length                  True\n",
              "home_ownership             False\n",
              "annual_inc                  True\n",
              "verification_status        False\n",
              "purpose                    False\n",
              "addr_state                 False\n",
              "delinq_2yrs                 True\n",
              "next_pymnt_d                True\n",
              "earliest_cr_line            True\n",
              "mths_since_last_delinq      True\n",
              "total_pymnt                False\n",
              "recoveries                 False\n",
              "collection_recovery_fee    False\n",
              "last_pymnt_d                True\n",
              "settlement_status           True\n",
              "application_type           False\n",
              "tot_hi_cred_lim             True\n",
              "risk_status                False\n",
              "marca_mal_pagador          False\n",
              "dtype: bool"
            ]
          },
          "metadata": {},
          "execution_count": 16
        }
      ]
    },
    {
      "cell_type": "markdown",
      "source": [
        "Crear view para consultar la cantidad de nulos en las series identificadas. Emplear *isnull().value_counts()*\n",
        "\n",
        "emp_title -- 166969\n",
        "\n",
        "emp_length -- 146907\n",
        "\n",
        "annual_inc -- 4\n",
        "\n",
        "delinq_2yrs -- 29\n",
        "\n",
        "next_pymnt_d -- 1303607 nulos\n",
        "\n",
        "earliest_cr_line -- 29\n",
        "\n",
        "last_pymnt_d -- 2426\n",
        "\n",
        "mths_since_last_delinq -- 1158473\n",
        "\n",
        "settlement_status -- 2227583\n",
        "\n",
        "tot_hi_cred_lim -- 70247"
      ],
      "metadata": {
        "id": "IGafH-HHvAmI"
      }
    },
    {
      "cell_type": "code",
      "source": [
        "view= credito_df[credito_df['last_pymnt_d'].isnull()]\n",
        "view.shape"
      ],
      "metadata": {
        "colab": {
          "base_uri": "https://localhost:8080/"
        },
        "id": "3rzCacvOvryJ",
        "outputId": "6db0c81d-7106-40a3-917c-19fd04bc522b"
      },
      "execution_count": 17,
      "outputs": [
        {
          "output_type": "execute_result",
          "data": {
            "text/plain": [
              "(2426, 25)"
            ]
          },
          "metadata": {},
          "execution_count": 17
        }
      ]
    },
    {
      "cell_type": "markdown",
      "source": [
        "Crear nuevo df eliminando las observaciones NaN de las columnas con menos nulos: annual inc, delinq 2yrs, earliest cr line.\n",
        "\n",
        "Emplear *dropna*"
      ],
      "metadata": {
        "id": "RDkS-wczzO_6"
      }
    },
    {
      "cell_type": "code",
      "source": [
        "creditos2 = credito_df.dropna(subset=['annual_inc','delinq_2yrs','earliest_cr_line'])\n",
        "creditos2.shape"
      ],
      "metadata": {
        "colab": {
          "base_uri": "https://localhost:8080/"
        },
        "id": "x_Ym2Ac9067n",
        "outputId": "4f1140d5-6144-4a51-df16-43dce6ccd5e3"
      },
      "execution_count": 18,
      "outputs": [
        {
          "output_type": "execute_result",
          "data": {
            "text/plain": [
              "(2260639, 25)"
            ]
          },
          "metadata": {},
          "execution_count": 18
        }
      ]
    },
    {
      "cell_type": "markdown",
      "source": [
        "Consultar los nulos identificados y ver a qué pertenecen"
      ],
      "metadata": {
        "id": "ZBbfWuVB5J6T"
      }
    },
    {
      "cell_type": "markdown",
      "source": [
        "- Los nulos de last payment pertenecen a los incobrables, tardíos más de 30 días, incobrables y default"
      ],
      "metadata": {
        "id": "Y6jYfb4F8n8C"
      }
    },
    {
      "cell_type": "markdown",
      "source": [
        "- Los nulos de next payment están asociados a los créditos pagados o incobrables. Asignar fecha anterior a 2000"
      ],
      "metadata": {
        "id": "EppzBvxn8xGZ"
      }
    },
    {
      "cell_type": "code",
      "source": [
        "nulos = creditos2.next_pymnt_d.isnull()"
      ],
      "metadata": {
        "id": "1IEMuEVr5PUc"
      },
      "execution_count": 19,
      "outputs": []
    },
    {
      "cell_type": "code",
      "source": [
        "creditos2['loan_status'][nulos].value_counts()"
      ],
      "metadata": {
        "colab": {
          "base_uri": "https://localhost:8080/"
        },
        "id": "TGLsN3pR5SE_",
        "outputId": "b33b3e9a-2623-4cfc-bf06-8b80184d63f4"
      },
      "execution_count": 20,
      "outputs": [
        {
          "output_type": "execute_result",
          "data": {
            "text/plain": [
              "loan_status\n",
              "Fully Paid     1041952\n",
              "Charged Off     261655\n",
              "Name: count, dtype: int64"
            ]
          },
          "metadata": {},
          "execution_count": 20
        }
      ]
    },
    {
      "cell_type": "markdown",
      "source": [
        "#*Tratamiento de valores NaN*\n",
        "\n",
        "- Los nulos en columnas **emp title, emp length y settlement** son significativos, no se pueden eliminar registros. Reemplazar con valor 'unknown'"
      ],
      "metadata": {
        "id": "_rNBb8L7-hUX"
      }
    },
    {
      "cell_type": "code",
      "source": [
        "creditos2['emp_title'].fillna('unknown', inplace=True)\n",
        "creditos2['emp_length'].fillna('unknown', inplace=True)\n",
        "creditos2['settlement_status'].fillna('unknown', inplace=True)"
      ],
      "metadata": {
        "colab": {
          "base_uri": "https://localhost:8080/"
        },
        "id": "gBuitl_PAWVj",
        "outputId": "f0b2461e-a99e-4515-c87c-7a0dc2ee861e"
      },
      "execution_count": 21,
      "outputs": [
        {
          "output_type": "stream",
          "name": "stderr",
          "text": [
            "<ipython-input-21-da1e530d32fa>:1: SettingWithCopyWarning: \n",
            "A value is trying to be set on a copy of a slice from a DataFrame\n",
            "\n",
            "See the caveats in the documentation: https://pandas.pydata.org/pandas-docs/stable/user_guide/indexing.html#returning-a-view-versus-a-copy\n",
            "  creditos2['emp_title'].fillna('unknown', inplace=True)\n",
            "<ipython-input-21-da1e530d32fa>:2: SettingWithCopyWarning: \n",
            "A value is trying to be set on a copy of a slice from a DataFrame\n",
            "\n",
            "See the caveats in the documentation: https://pandas.pydata.org/pandas-docs/stable/user_guide/indexing.html#returning-a-view-versus-a-copy\n",
            "  creditos2['emp_length'].fillna('unknown', inplace=True)\n",
            "<ipython-input-21-da1e530d32fa>:3: SettingWithCopyWarning: \n",
            "A value is trying to be set on a copy of a slice from a DataFrame\n",
            "\n",
            "See the caveats in the documentation: https://pandas.pydata.org/pandas-docs/stable/user_guide/indexing.html#returning-a-view-versus-a-copy\n",
            "  creditos2['settlement_status'].fillna('unknown', inplace=True)\n"
          ]
        }
      ]
    },
    {
      "cell_type": "markdown",
      "source": [
        "- Fechas en **next y last payment d** reemplazar con Dic-2000 para poder separarlas de las otras fechas en las series, cuyos valores van del 2007 a 2015"
      ],
      "metadata": {
        "id": "YLu_aIuJIBdQ"
      }
    },
    {
      "cell_type": "code",
      "source": [
        "creditos2['last_pymnt_d'].fillna('Dec-2000', inplace=True)\n",
        "creditos2['next_pymnt_d'].fillna('Dec-2000', inplace=True)"
      ],
      "metadata": {
        "colab": {
          "base_uri": "https://localhost:8080/"
        },
        "id": "7r4ETk2vIAMS",
        "outputId": "1425581a-c0c4-4dc3-f42e-e11d02ad1880"
      },
      "execution_count": 22,
      "outputs": [
        {
          "output_type": "stream",
          "name": "stderr",
          "text": [
            "<ipython-input-22-4ab20f3ec7aa>:1: SettingWithCopyWarning: \n",
            "A value is trying to be set on a copy of a slice from a DataFrame\n",
            "\n",
            "See the caveats in the documentation: https://pandas.pydata.org/pandas-docs/stable/user_guide/indexing.html#returning-a-view-versus-a-copy\n",
            "  creditos2['last_pymnt_d'].fillna('Dec-2000', inplace=True)\n",
            "<ipython-input-22-4ab20f3ec7aa>:2: SettingWithCopyWarning: \n",
            "A value is trying to be set on a copy of a slice from a DataFrame\n",
            "\n",
            "See the caveats in the documentation: https://pandas.pydata.org/pandas-docs/stable/user_guide/indexing.html#returning-a-view-versus-a-copy\n",
            "  creditos2['next_pymnt_d'].fillna('Dec-2000', inplace=True)\n"
          ]
        }
      ]
    },
    {
      "cell_type": "markdown",
      "source": [
        "- Para tratar nulos de **months since last delinq** primero consultar valores, si no existen ceros se puede asignar este valor"
      ],
      "metadata": {
        "id": "iTOQroRGUFn2"
      }
    },
    {
      "cell_type": "code",
      "source": [
        "#creditos2.mths_since_last_delinq.value_counts().to_dict()"
      ],
      "metadata": {
        "id": "QpvtzspPUeMh"
      },
      "execution_count": 23,
      "outputs": []
    },
    {
      "cell_type": "markdown",
      "source": [
        "Existen 2400 observaciones con cero entonces no se puede asignar el mismo valor, rellenar con -999"
      ],
      "metadata": {
        "id": "GnjmwYTWUqAJ"
      }
    },
    {
      "cell_type": "code",
      "source": [
        "creditos2['mths_since_last_delinq'].fillna(-999, inplace=True)"
      ],
      "metadata": {
        "colab": {
          "base_uri": "https://localhost:8080/"
        },
        "id": "qG90yi1OU1W6",
        "outputId": "f6122801-29c8-474a-bbb3-f2d788222cf5"
      },
      "execution_count": 24,
      "outputs": [
        {
          "output_type": "stream",
          "name": "stderr",
          "text": [
            "<ipython-input-24-0a14573085eb>:1: SettingWithCopyWarning: \n",
            "A value is trying to be set on a copy of a slice from a DataFrame\n",
            "\n",
            "See the caveats in the documentation: https://pandas.pydata.org/pandas-docs/stable/user_guide/indexing.html#returning-a-view-versus-a-copy\n",
            "  creditos2['mths_since_last_delinq'].fillna(-999, inplace=True)\n"
          ]
        }
      ]
    },
    {
      "cell_type": "markdown",
      "source": [
        "- Para **tot hi cred lim**, rellenar NaN con el promedio del resto de valores. Crear variable para después aplicar el *fillna*"
      ],
      "metadata": {
        "id": "HoraHhtlVfNX"
      }
    },
    {
      "cell_type": "code",
      "source": [
        "prom_cred_mas_alto = (creditos2['tot_hi_cred_lim'].mean()).astype(int)\n",
        "prom_cred_mas_alto"
      ],
      "metadata": {
        "colab": {
          "base_uri": "https://localhost:8080/"
        },
        "id": "tleTG77-VIzp",
        "outputId": "dfbf695e-48a9-4595-e5a2-6b8f7af50794"
      },
      "execution_count": 25,
      "outputs": [
        {
          "output_type": "execute_result",
          "data": {
            "text/plain": [
              "178242"
            ]
          },
          "metadata": {},
          "execution_count": 25
        }
      ]
    },
    {
      "cell_type": "code",
      "source": [
        "creditos2['tot_hi_cred_lim'].fillna(prom_cred_mas_alto,inplace=True)"
      ],
      "metadata": {
        "colab": {
          "base_uri": "https://localhost:8080/"
        },
        "id": "oVorka3UV1bO",
        "outputId": "6f8a56c5-ff3f-403b-af02-458495086d61"
      },
      "execution_count": 26,
      "outputs": [
        {
          "output_type": "stream",
          "name": "stderr",
          "text": [
            "<ipython-input-26-65f88e08abd7>:1: SettingWithCopyWarning: \n",
            "A value is trying to be set on a copy of a slice from a DataFrame\n",
            "\n",
            "See the caveats in the documentation: https://pandas.pydata.org/pandas-docs/stable/user_guide/indexing.html#returning-a-view-versus-a-copy\n",
            "  creditos2['tot_hi_cred_lim'].fillna(prom_cred_mas_alto,inplace=True)\n"
          ]
        }
      ]
    },
    {
      "cell_type": "markdown",
      "source": [
        "Las dos celdas siguientes se usan para confirmar nulos en el df y para ver si los valores NaN se rellenaron correctamente en las series procesadas"
      ],
      "metadata": {
        "id": "DfQHCPyOU73Z"
      }
    },
    {
      "cell_type": "code",
      "source": [
        "creditos2.isnull().any()"
      ],
      "metadata": {
        "colab": {
          "base_uri": "https://localhost:8080/"
        },
        "id": "_37HfVPsBKp5",
        "outputId": "6df3093b-1ea0-4b19-94a6-9555a0348e56"
      },
      "execution_count": 27,
      "outputs": [
        {
          "output_type": "execute_result",
          "data": {
            "text/plain": [
              "id_cliente                 False\n",
              "loan_status                False\n",
              "loan_amnt                  False\n",
              "installment                False\n",
              "term                       False\n",
              "emp_title                  False\n",
              "emp_length                 False\n",
              "home_ownership             False\n",
              "annual_inc                 False\n",
              "verification_status        False\n",
              "purpose                    False\n",
              "addr_state                 False\n",
              "delinq_2yrs                False\n",
              "next_pymnt_d               False\n",
              "earliest_cr_line           False\n",
              "mths_since_last_delinq     False\n",
              "total_pymnt                False\n",
              "recoveries                 False\n",
              "collection_recovery_fee    False\n",
              "last_pymnt_d               False\n",
              "settlement_status          False\n",
              "application_type           False\n",
              "tot_hi_cred_lim            False\n",
              "risk_status                False\n",
              "marca_mal_pagador          False\n",
              "dtype: bool"
            ]
          },
          "metadata": {},
          "execution_count": 27
        }
      ]
    },
    {
      "cell_type": "code",
      "source": [
        "creditos2.settlement_status.value_counts()"
      ],
      "metadata": {
        "colab": {
          "base_uri": "https://localhost:8080/"
        },
        "id": "p8MnIwVYBZqr",
        "outputId": "2b207299-ee3e-41a7-abbb-90f28debe009"
      },
      "execution_count": 28,
      "outputs": [
        {
          "output_type": "execute_result",
          "data": {
            "text/plain": [
              "settlement_status\n",
              "unknown     2227583\n",
              "ACTIVE        14811\n",
              "COMPLETE      13517\n",
              "BROKEN         4728\n",
              "Name: count, dtype: int64"
            ]
          },
          "metadata": {},
          "execution_count": 28
        }
      ]
    },
    {
      "cell_type": "markdown",
      "source": [
        "Cambiar tipos de datos para facilitar el analisis"
      ],
      "metadata": {
        "id": "thMh_OBiYe0O"
      }
    },
    {
      "cell_type": "code",
      "source": [
        "creditos2['annual_inc'] = creditos2['annual_inc'].astype(int)\n",
        "creditos2['delinq_2yrs'] = creditos2['delinq_2yrs'].astype(int)\n",
        "creditos2['mths_since_last_delinq'] = creditos2['mths_since_last_delinq'].astype(int)"
      ],
      "metadata": {
        "colab": {
          "base_uri": "https://localhost:8080/"
        },
        "id": "X6utgIpnYkDR",
        "outputId": "11d6633e-253a-4bd9-8603-b045e14a40d9"
      },
      "execution_count": 29,
      "outputs": [
        {
          "output_type": "stream",
          "name": "stderr",
          "text": [
            "<ipython-input-29-251aa716819e>:1: SettingWithCopyWarning: \n",
            "A value is trying to be set on a copy of a slice from a DataFrame.\n",
            "Try using .loc[row_indexer,col_indexer] = value instead\n",
            "\n",
            "See the caveats in the documentation: https://pandas.pydata.org/pandas-docs/stable/user_guide/indexing.html#returning-a-view-versus-a-copy\n",
            "  creditos2['annual_inc'] = creditos2['annual_inc'].astype(int)\n",
            "<ipython-input-29-251aa716819e>:2: SettingWithCopyWarning: \n",
            "A value is trying to be set on a copy of a slice from a DataFrame.\n",
            "Try using .loc[row_indexer,col_indexer] = value instead\n",
            "\n",
            "See the caveats in the documentation: https://pandas.pydata.org/pandas-docs/stable/user_guide/indexing.html#returning-a-view-versus-a-copy\n",
            "  creditos2['delinq_2yrs'] = creditos2['delinq_2yrs'].astype(int)\n",
            "<ipython-input-29-251aa716819e>:3: SettingWithCopyWarning: \n",
            "A value is trying to be set on a copy of a slice from a DataFrame.\n",
            "Try using .loc[row_indexer,col_indexer] = value instead\n",
            "\n",
            "See the caveats in the documentation: https://pandas.pydata.org/pandas-docs/stable/user_guide/indexing.html#returning-a-view-versus-a-copy\n",
            "  creditos2['mths_since_last_delinq'] = creditos2['mths_since_last_delinq'].astype(int)\n"
          ]
        }
      ]
    },
    {
      "cell_type": "code",
      "source": [
        "creditos2.dtypes"
      ],
      "metadata": {
        "colab": {
          "base_uri": "https://localhost:8080/"
        },
        "id": "0F-OFo7qYr2v",
        "outputId": "e68b1818-3253-4fa1-d329-5d0bdc04e131"
      },
      "execution_count": 30,
      "outputs": [
        {
          "output_type": "execute_result",
          "data": {
            "text/plain": [
              "id_cliente                   int64\n",
              "loan_status                 object\n",
              "loan_amnt                    int64\n",
              "installment                float64\n",
              "term                        object\n",
              "emp_title                   object\n",
              "emp_length                  object\n",
              "home_ownership              object\n",
              "annual_inc                   int64\n",
              "verification_status         object\n",
              "purpose                     object\n",
              "addr_state                  object\n",
              "delinq_2yrs                  int64\n",
              "next_pymnt_d                object\n",
              "earliest_cr_line            object\n",
              "mths_since_last_delinq       int64\n",
              "total_pymnt                float64\n",
              "recoveries                 float64\n",
              "collection_recovery_fee    float64\n",
              "last_pymnt_d                object\n",
              "settlement_status           object\n",
              "application_type            object\n",
              "tot_hi_cred_lim            float64\n",
              "risk_status                 object\n",
              "marca_mal_pagador            int64\n",
              "dtype: object"
            ]
          },
          "metadata": {},
          "execution_count": 30
        }
      ]
    },
    {
      "cell_type": "markdown",
      "source": [
        "**Convertir columnas de fecha a dt**\n",
        "\n",
        "Los cambios se hacen inplace, el formato es mes, año (%b-%Y)"
      ],
      "metadata": {
        "id": "7IGJJdcSqClH"
      }
    },
    {
      "cell_type": "code",
      "source": [
        "creditos2['next_pymnt_d'] = pd.to_datetime(creditos2['next_pymnt_d'], format = '%b-%Y')\n",
        "creditos2['last_pymnt_d'] = pd.to_datetime(creditos2['last_pymnt_d'], format = '%b-%Y')\n",
        "creditos2['earliest_cr_line'] = pd.to_datetime(creditos2['earliest_cr_line'],format='%b-%Y')"
      ],
      "metadata": {
        "colab": {
          "base_uri": "https://localhost:8080/"
        },
        "id": "eYcQMSwAZi8-",
        "outputId": "d94757ad-172f-4d8c-aa98-5d779b3c39e9"
      },
      "execution_count": 31,
      "outputs": [
        {
          "output_type": "stream",
          "name": "stderr",
          "text": [
            "<ipython-input-31-9e637b5c57d7>:1: SettingWithCopyWarning: \n",
            "A value is trying to be set on a copy of a slice from a DataFrame.\n",
            "Try using .loc[row_indexer,col_indexer] = value instead\n",
            "\n",
            "See the caveats in the documentation: https://pandas.pydata.org/pandas-docs/stable/user_guide/indexing.html#returning-a-view-versus-a-copy\n",
            "  creditos2['next_pymnt_d'] = pd.to_datetime(creditos2['next_pymnt_d'], format = '%b-%Y')\n",
            "<ipython-input-31-9e637b5c57d7>:2: SettingWithCopyWarning: \n",
            "A value is trying to be set on a copy of a slice from a DataFrame.\n",
            "Try using .loc[row_indexer,col_indexer] = value instead\n",
            "\n",
            "See the caveats in the documentation: https://pandas.pydata.org/pandas-docs/stable/user_guide/indexing.html#returning-a-view-versus-a-copy\n",
            "  creditos2['last_pymnt_d'] = pd.to_datetime(creditos2['last_pymnt_d'], format = '%b-%Y')\n",
            "<ipython-input-31-9e637b5c57d7>:3: SettingWithCopyWarning: \n",
            "A value is trying to be set on a copy of a slice from a DataFrame.\n",
            "Try using .loc[row_indexer,col_indexer] = value instead\n",
            "\n",
            "See the caveats in the documentation: https://pandas.pydata.org/pandas-docs/stable/user_guide/indexing.html#returning-a-view-versus-a-copy\n",
            "  creditos2['earliest_cr_line'] = pd.to_datetime(creditos2['earliest_cr_line'],format='%b-%Y')\n"
          ]
        }
      ]
    },
    {
      "cell_type": "markdown",
      "source": [
        "# **Feature Transformation**"
      ],
      "metadata": {
        "id": "LLK5JJT7Uyls"
      }
    },
    {
      "cell_type": "markdown",
      "source": [
        "\n",
        "**Creación de variables categoricas**\n",
        "\n",
        "*Vintage del cliente*\n",
        "\n",
        "Después de cambiar tipo de dato earliest_cr_line a datetime, ordenar los valores, consultar el más antiguo y más reciente poder definir límites de categorías de vintage de clientes"
      ],
      "metadata": {
        "id": "SShdS6vnkq5x"
      }
    },
    {
      "cell_type": "code",
      "source": [
        "creditos2.earliest_cr_line.sort_values()"
      ],
      "metadata": {
        "colab": {
          "base_uri": "https://localhost:8080/"
        },
        "id": "B9iUjQkXlTSs",
        "outputId": "d8f3ae88-6590-47c6-d3e7-386a3a9c1c08"
      },
      "execution_count": 32,
      "outputs": [
        {
          "output_type": "execute_result",
          "data": {
            "text/plain": [
              "596125    1933-03-01\n",
              "1613074   1934-02-01\n",
              "1543630   1934-04-01\n",
              "1543216   1934-04-01\n",
              "501898    1941-08-01\n",
              "             ...    \n",
              "34228     2015-11-01\n",
              "6028      2015-11-01\n",
              "11305     2015-11-01\n",
              "26955     2015-11-01\n",
              "16037     2015-11-01\n",
              "Name: earliest_cr_line, Length: 2260639, dtype: datetime64[ns]"
            ]
          },
          "metadata": {},
          "execution_count": 32
        }
      ]
    },
    {
      "cell_type": "markdown",
      "source": [
        "- Separar solo el año del datetime y definir limites para los bins de segmentacion, crear categorias very long, long term, established y new"
      ],
      "metadata": {
        "id": "7izvd0cilZ_W"
      }
    },
    {
      "cell_type": "code",
      "source": [
        "creditos2['vintage_cliente'] = pd.cut(creditos2.earliest_cr_line.dt.year, [1900, 1969,1970,2000,2010,2020], labels=['very long term', 'long term', 'established','mid-term ','new'])"
      ],
      "metadata": {
        "colab": {
          "base_uri": "https://localhost:8080/"
        },
        "id": "QQbw7jhble-l",
        "outputId": "0dddd4ae-cce7-4aa4-f72c-3967c67d46f4"
      },
      "execution_count": 33,
      "outputs": [
        {
          "output_type": "stream",
          "name": "stderr",
          "text": [
            "<ipython-input-33-ad70e9191db6>:1: SettingWithCopyWarning: \n",
            "A value is trying to be set on a copy of a slice from a DataFrame.\n",
            "Try using .loc[row_indexer,col_indexer] = value instead\n",
            "\n",
            "See the caveats in the documentation: https://pandas.pydata.org/pandas-docs/stable/user_guide/indexing.html#returning-a-view-versus-a-copy\n",
            "  creditos2['vintage_cliente'] = pd.cut(creditos2.earliest_cr_line.dt.year, [1900, 1969,1970,2000,2010,2020], labels=['very long term', 'long term', 'established','mid-term ','new'])\n"
          ]
        }
      ]
    },
    {
      "cell_type": "markdown",
      "source": [
        "*Social Class*\n",
        "\n",
        "Categoría basada en el nivel de ingresos del cliente\n",
        "\n",
        "- Se empleará para determinar un promedio de ingresos y hacer más sencilla la evaluación del ratio loan/income"
      ],
      "metadata": {
        "id": "Swb7irQ4ltR4"
      }
    },
    {
      "cell_type": "code",
      "source": [
        "creditos2['soc_class'] = pd.cut(creditos2.annual_inc,[-1,13000,35000,65000,130000,110000000], labels=['lower','working','middle','upper-middle','upper'])"
      ],
      "metadata": {
        "colab": {
          "base_uri": "https://localhost:8080/"
        },
        "id": "xTc7jArytyPp",
        "outputId": "99c95299-575b-4555-fa55-6d812c61cbf7"
      },
      "execution_count": 34,
      "outputs": [
        {
          "output_type": "stream",
          "name": "stderr",
          "text": [
            "<ipython-input-34-edfaa9248544>:1: SettingWithCopyWarning: \n",
            "A value is trying to be set on a copy of a slice from a DataFrame.\n",
            "Try using .loc[row_indexer,col_indexer] = value instead\n",
            "\n",
            "See the caveats in the documentation: https://pandas.pydata.org/pandas-docs/stable/user_guide/indexing.html#returning-a-view-versus-a-copy\n",
            "  creditos2['soc_class'] = pd.cut(creditos2.annual_inc,[-1,13000,35000,65000,130000,110000000], labels=['lower','working','middle','upper-middle','upper'])\n"
          ]
        }
      ]
    },
    {
      "cell_type": "markdown",
      "source": [
        "Crear columna con ingresos promedio por cada categoria"
      ],
      "metadata": {
        "id": "Sf4jJ7nGt8IH"
      }
    },
    {
      "cell_type": "code",
      "source": [
        "creditos2['avg_annual_inc'] = (creditos2.groupby(['soc_class'])['annual_inc'].transform('mean')).astype(int)"
      ],
      "metadata": {
        "colab": {
          "base_uri": "https://localhost:8080/"
        },
        "id": "VH-P2yOjuB6w",
        "outputId": "9364cf2f-5fcb-41db-c568-b86a1ed74479"
      },
      "execution_count": 35,
      "outputs": [
        {
          "output_type": "stream",
          "name": "stderr",
          "text": [
            "<ipython-input-35-c94c5c4dd5cf>:1: SettingWithCopyWarning: \n",
            "A value is trying to be set on a copy of a slice from a DataFrame.\n",
            "Try using .loc[row_indexer,col_indexer] = value instead\n",
            "\n",
            "See the caveats in the documentation: https://pandas.pydata.org/pandas-docs/stable/user_guide/indexing.html#returning-a-view-versus-a-copy\n",
            "  creditos2['avg_annual_inc'] = (creditos2.groupby(['soc_class'])['annual_inc'].transform('mean')).astype(int)\n"
          ]
        }
      ]
    },
    {
      "cell_type": "markdown",
      "source": [
        "Creacion de ratio loan/income para verificar nivel de deuda respecto a ingresos del cliente"
      ],
      "metadata": {
        "id": "yxQzqwLNuLUP"
      }
    },
    {
      "cell_type": "code",
      "source": [
        "creditos2['loan/income'] = (creditos2['loan_amnt'] / creditos2['avg_annual_inc']).round(2)"
      ],
      "metadata": {
        "colab": {
          "base_uri": "https://localhost:8080/"
        },
        "id": "nRIV_rPPuS2g",
        "outputId": "8afff27b-37c8-4baa-e360-f84faca91548"
      },
      "execution_count": 36,
      "outputs": [
        {
          "output_type": "stream",
          "name": "stderr",
          "text": [
            "<ipython-input-36-1c3eb60c568d>:1: SettingWithCopyWarning: \n",
            "A value is trying to be set on a copy of a slice from a DataFrame.\n",
            "Try using .loc[row_indexer,col_indexer] = value instead\n",
            "\n",
            "See the caveats in the documentation: https://pandas.pydata.org/pandas-docs/stable/user_guide/indexing.html#returning-a-view-versus-a-copy\n",
            "  creditos2['loan/income'] = (creditos2['loan_amnt'] / creditos2['avg_annual_inc']).round(2)\n"
          ]
        }
      ]
    },
    {
      "cell_type": "markdown",
      "source": [
        "#**Correlation Analysis**"
      ],
      "metadata": {
        "id": "HELvSMCqEzDK"
      }
    }
  ]
}