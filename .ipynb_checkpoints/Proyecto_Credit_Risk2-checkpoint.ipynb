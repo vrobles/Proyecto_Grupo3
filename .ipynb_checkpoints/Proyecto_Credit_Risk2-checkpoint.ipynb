{
 "cells": [
  {
   "cell_type": "markdown",
   "metadata": {
    "id": "UJv7qbTNWZ2m"
   },
   "source": [
    "*Import de módulos para el proyecto*"
   ]
  },
  {
   "cell_type": "code",
   "execution_count": null,
   "metadata": {
    "id": "WPuHFQgSWUR4"
   },
   "outputs": [],
   "source": [
    "import pandas as pd\n",
    "import seaborn as sns\n",
    "import matplotlib.pyplot as plt\n",
    "import numpy as np"
   ]
  },
  {
   "cell_type": "markdown",
   "metadata": {
    "id": "isDTeWMOWzvF"
   },
   "source": [
    "Conexión con Google Drive para acceder al archivo"
   ]
  },
  {
   "cell_type": "code",
   "execution_count": null,
   "metadata": {
    "id": "lKPmFFI5W-Ta"
   },
   "outputs": [],
   "source": [
    "credito_df = pd.read_csv('/content/drive/MyDrive/Bootcamp/Proyecto Produbanco - Coding para procesamiento/creditos_historicos.csv', low_memory=False)"
   ]
  },
  {
   "cell_type": "code",
   "execution_count": null,
   "metadata": {},
   "outputs": [],
   "source": [
    "credito_df = pd.read_csv('creditos_historicos.csv', low_memory=False)"
   ]
  },
  {
   "cell_type": "markdown",
   "metadata": {},
   "source": [
    "                               CREDITOS OTORGADOS - PRODUBANCO (Grupos 1-4)\n",
    "\n",
    "En el ámbito financiero, la concesión de créditos es una de las actividades más importantes y a\n",
    "la vez, una de las más riesgosas para las instituciones. La capacidad de predecir y gestionar\n",
    "adecuadamente el riesgo crediticio es crucial para mantener la estabilidad financiera y\n",
    "minimizar las pérdidas. Este proyecto tiene como objetivo analizar el estatus de los créditos\n",
    "otorgados y determinar los factores que influyen en el incumplimiento de pago.\n",
    "\n",
    "El análisis de datos históricos sobre la forma en que los créditos fueron otorgados y su\n",
    "posterior desempeño nos permitirá identificar patrones y tendencias en el comportamiento de\n",
    "los prestatarios. Con un enfoque centrado en la identificación de créditos que cayeron en\n",
    "vencimiento, este proyecto busca proporcionar una comprensión profunda de los factores que\n",
    "contribuyen a la morosidad.\n",
    "\n",
    "Tenemos datos completos de todos los préstamos emitidos entre 2007 y 2015, incluido el\n",
    "estado actual del préstamo (vigente, retrasado, totalmente pagado, etc.) y la última información\n",
    "de pago. Las características (también conocidas como variables) incluyen la puntuación\n",
    "crediticia, el número de consultas financieras, la dirección, incluidos los códigos postales y el\n",
    "estado, y los cobros, entre otros. El apartado de cobros indica si el cliente ha incumplido uno o\n",
    "más pagos y el equipo está intentando recuperar su dinero.\n",
    "\n",
    "Produbanco, requiere del departamento de Business Intelligence analizar un grupo de creditos\n",
    "históricos. Asuma que el mes de análisis en marzo 2019 (fecha actual).\n",
    "Usted deberá cumplir con al menos los siguientes puntos:"
   ]
  },
  {
   "cell_type": "markdown",
   "metadata": {},
   "source": [
    "**Definición de mal pagador**\n",
    "\n",
    "1. Crear una definición de ‘mal_pagador’. El dataset cuenta con varias columnas que\n",
    "hacen referencia los clientes que han tenido problemas de pagos. Analice y escoja una\n",
    "para crear la definición de mal pagador."
   ]
  },
  {
   "cell_type": "markdown",
   "metadata": {
    "id": "aH-v2ZX_XYaH"
   },
   "source": [
    "Consultar tamaño del dataframe para saber numero de observaciones y series --- 2260668 observaciones, 23 variables"
   ]
  },
  {
   "cell_type": "code",
   "execution_count": null,
   "metadata": {
    "colab": {
     "base_uri": "https://localhost:8080/"
    },
    "id": "X06PAQ20Xdhu",
    "outputId": "2c41baa0-857f-458c-d3ce-3fb392be6967"
   },
   "outputs": [],
   "source": [
    "credito_df.shape"
   ]
  },
  {
   "cell_type": "markdown",
   "metadata": {
    "id": "PwbeFdaTYBhc"
   },
   "source": [
    "Consultar los estados del crédito de cada cliente para crear categorías de riesgo. Ej. Fully Paid representa riesgo bajo, Late es de riesgo alto"
   ]
  },
  {
   "cell_type": "code",
   "execution_count": null,
   "metadata": {
    "colab": {
     "base_uri": "https://localhost:8080/"
    },
    "id": "nnizyyOHYOeC",
    "outputId": "14102429-3cfc-43b6-df0a-aabfc6798c1a"
   },
   "outputs": [],
   "source": [
    "credito_df['loan_status'].value_counts()"
   ]
  },
  {
   "cell_type": "markdown",
   "metadata": {
    "id": "jJhRTyekX64K"
   },
   "source": [
    "\n",
    "Crear función que clasifique estos estados en riesgo alto o bajo"
   ]
  },
  {
   "cell_type": "code",
   "execution_count": null,
   "metadata": {
    "id": "YkGCATlia6aH"
   },
   "outputs": [],
   "source": [
    "def status_riesgo(status):\n",
    "    if status in ['Fully Paid', 'Current', 'In Grace Period']:\n",
    "       return 'low risk'\n",
    "    else:\n",
    "       return 'high risk'"
   ]
  },
  {
   "cell_type": "markdown",
   "metadata": {
    "id": "_XbJr1fAcz8M"
   },
   "source": [
    "Crear nueva columna de riesgo según el estado del credito"
   ]
  },
  {
   "cell_type": "code",
   "execution_count": null,
   "metadata": {
    "id": "30NqFYcMc--0"
   },
   "outputs": [],
   "source": [
    "credito_df['risk_status'] = credito_df['loan_status'].apply(lambda x:status_riesgo(x))"
   ]
  },
  {
   "cell_type": "markdown",
   "metadata": {
    "id": "H3-2uqUjd1Bk"
   },
   "source": [
    "En esta nueva serie, las observaciones son 1970599 riesgo bajo y 290069 riesgo alto"
   ]
  },
  {
   "cell_type": "code",
   "execution_count": null,
   "metadata": {
    "colab": {
     "base_uri": "https://localhost:8080/"
    },
    "id": "wSEB60uAfX4Z",
    "outputId": "3cae90cb-e273-457f-b321-cb9388c3bf3b"
   },
   "outputs": [],
   "source": [
    "credito_df['risk_status'].value_counts()"
   ]
  },
  {
   "cell_type": "markdown",
   "metadata": {
    "id": "JNtwrU36f3O2"
   },
   "source": [
    "Definir función para evaluar malos pagadores según tres parámetros: riesgo_status, meses desde la última vez que cayeron en mora y las veces que estuvieron en mora en los últimos dos años.\n",
    "\n",
    "Ej. Si el pagador tiene riesgo bajo y ha pasado más de un mes, mal pagador. Si en los últimos dos años, estuvo en mora más de 2 veces, mal pagador"
   ]
  },
  {
   "cell_type": "code",
   "execution_count": null,
   "metadata": {
    "id": "AnWahyBAhgrc"
   },
   "outputs": [],
   "source": [
    "def marca(riesgo,meses,record2yrs):\n",
    "    if (riesgo == 'high risk') or (riesgo == 'low risk' and meses <6) or (record2yrs >2):\n",
    "       return 1\n",
    "    else:\n",
    "       return 0"
   ]
  },
  {
   "cell_type": "markdown",
   "metadata": {
    "id": "xxj0oCPVtX9m"
   },
   "source": [
    "Crear serie aplicando la función definida anteriormente"
   ]
  },
  {
   "cell_type": "code",
   "execution_count": null,
   "metadata": {
    "id": "x-Od94rYtcX6"
   },
   "outputs": [],
   "source": [
    "credito_df['marca_mal_pagador'] = credito_df.apply(lambda x: marca(riesgo=x['risk_status'],meses=x['mths_since_last_delinq'], record2yrs=x['delinq_2yrs']), axis =1)"
   ]
  },
  {
   "cell_type": "markdown",
   "metadata": {
    "id": "1OiIXWqRt61P"
   },
   "source": [
    "Existen 384384 clientes marcados como malos pagadores"
   ]
  },
  {
   "cell_type": "code",
   "execution_count": null,
   "metadata": {
    "colab": {
     "base_uri": "https://localhost:8080/"
    },
    "id": "t2G1ptgtt-25",
    "outputId": "61fa5c80-e9ac-4306-f42d-2fd95365f8d7"
   },
   "outputs": [],
   "source": [
    "credito_df['marca_mal_pagador'].value_counts()"
   ]
  },
  {
   "cell_type": "markdown",
   "metadata": {
    "id": "QB4TtoUouFI9"
   },
   "source": [
    "# **Data Quality**\n",
    "\n",
    "*Duplicados*\n",
    "\n",
    "1. Analice si existen valores duplicados, y si es así aborde el problema."
   ]
  },
  {
   "cell_type": "markdown",
   "metadata": {},
   "source": [
    "Para evaluar duplicados en este df revisaremos el id_cliente, ya que las otras variables podrían estar repetidas sin que signifique registro duplicado"
   ]
  },
  {
   "cell_type": "code",
   "execution_count": null,
   "metadata": {
    "colab": {
     "base_uri": "https://localhost:8080/"
    },
    "id": "CYRlOW-3uY2W",
    "outputId": "d35f96c2-6a55-4b31-9215-29c4dcaf6f60"
   },
   "outputs": [],
   "source": [
    "credito_df['id_cliente']. duplicated().value_counts()"
   ]
  },
  {
   "cell_type": "markdown",
   "metadata": {
    "id": "oHo3aMzZugAQ"
   },
   "source": [
    "No existen duplicados, no necesita procesamiento adicional"
   ]
  },
  {
   "cell_type": "markdown",
   "metadata": {
    "id": "0KsQx4FXusrK"
   },
   "source": [
    "*Nulos*\n",
    "\n",
    "2. Analice si existen valores nulos, y si es así aborde el problema. Puede usar cualquiera\n",
    "de las alternativas que vimos en clase.\n",
    "\n",
    "isnull().any() retorna un detalle de columnas con nulos en todo el df"
   ]
  },
  {
   "cell_type": "code",
   "execution_count": null,
   "metadata": {
    "colab": {
     "base_uri": "https://localhost:8080/"
    },
    "id": "ZacgjnNWu2z8",
    "outputId": "21cbf0f9-265b-4e3e-d3ff-022ab11796d5"
   },
   "outputs": [],
   "source": [
    "credito_df.isnull().any()"
   ]
  },
  {
   "cell_type": "markdown",
   "metadata": {
    "id": "IGafH-HHvAmI"
   },
   "source": [
    "Crear view para consultar la cantidad de nulos en las series identificadas. Emplear *isnull().value_counts()*\n",
    "\n",
    "emp_title -- 166969\n",
    "\n",
    "emp_length -- 146907\n",
    "\n",
    "annual_inc -- 4\n",
    "\n",
    "delinq_2yrs -- 29\n",
    "\n",
    "next_pymnt_d -- 1303607 nulos\n",
    "\n",
    "earliest_cr_line -- 29\n",
    "\n",
    "last_pymnt_d -- 2426\n",
    "\n",
    "mths_since_last_delinq -- 1158473\n",
    "\n",
    "settlement_status -- 2227583\n",
    "\n",
    "tot_hi_cred_lim -- 70247"
   ]
  },
  {
   "cell_type": "code",
   "execution_count": null,
   "metadata": {
    "colab": {
     "base_uri": "https://localhost:8080/"
    },
    "id": "3rzCacvOvryJ",
    "outputId": "6db0c81d-7106-40a3-917c-19fd04bc522b"
   },
   "outputs": [],
   "source": [
    "view= credito_df[credito_df['last_pymnt_d'].isnull()]\n",
    "view.shape"
   ]
  },
  {
   "cell_type": "markdown",
   "metadata": {
    "id": "RDkS-wczzO_6"
   },
   "source": [
    "Crear nuevo df eliminando las observaciones NaN de las columnas con menos nulos: annual inc, delinq 2yrs, earliest cr line.\n",
    "\n",
    "Emplear *dropna*"
   ]
  },
  {
   "cell_type": "code",
   "execution_count": null,
   "metadata": {
    "colab": {
     "base_uri": "https://localhost:8080/"
    },
    "id": "x_Ym2Ac9067n",
    "outputId": "4f1140d5-6144-4a51-df16-43dce6ccd5e3"
   },
   "outputs": [],
   "source": [
    "creditos2 = credito_df.dropna(subset=['annual_inc','delinq_2yrs','earliest_cr_line'])\n",
    "creditos2.shape"
   ]
  },
  {
   "cell_type": "markdown",
   "metadata": {
    "id": "ZBbfWuVB5J6T"
   },
   "source": [
    "Consultar los nulos identificados y ver a qué pertenecen"
   ]
  },
  {
   "cell_type": "markdown",
   "metadata": {
    "id": "Y6jYfb4F8n8C"
   },
   "source": [
    "- Los nulos de last payment pertenecen a los incobrables, tardíos más de 30 días, incobrables y default"
   ]
  },
  {
   "cell_type": "markdown",
   "metadata": {
    "id": "EppzBvxn8xGZ"
   },
   "source": [
    "- Los nulos de next payment están asociados a los créditos pagados o incobrables. Asignar fecha anterior a 2000"
   ]
  },
  {
   "cell_type": "code",
   "execution_count": null,
   "metadata": {
    "id": "1IEMuEVr5PUc"
   },
   "outputs": [],
   "source": [
    "nulos = creditos2.next_pymnt_d.isnull()"
   ]
  },
  {
   "cell_type": "code",
   "execution_count": null,
   "metadata": {
    "colab": {
     "base_uri": "https://localhost:8080/"
    },
    "id": "TGLsN3pR5SE_",
    "outputId": "b33b3e9a-2623-4cfc-bf06-8b80184d63f4"
   },
   "outputs": [],
   "source": [
    "creditos2['loan_status'][nulos].value_counts()"
   ]
  },
  {
   "cell_type": "markdown",
   "metadata": {
    "id": "_rNBb8L7-hUX"
   },
   "source": [
    "#*Tratamiento de valores NaN*\n",
    "\n",
    "- Los nulos en columnas **emp title, emp length y settlement** son significativos, no se pueden eliminar registros. Reemplazar con valor 'unknown'"
   ]
  },
  {
   "cell_type": "code",
   "execution_count": null,
   "metadata": {
    "colab": {
     "base_uri": "https://localhost:8080/"
    },
    "id": "gBuitl_PAWVj",
    "outputId": "f0b2461e-a99e-4515-c87c-7a0dc2ee861e"
   },
   "outputs": [],
   "source": [
    "creditos2['emp_title'].fillna('unknown', inplace=True)\n",
    "creditos2['emp_length'].fillna('unknown', inplace=True)\n",
    "creditos2['settlement_status'].fillna('unknown', inplace=True)"
   ]
  },
  {
   "cell_type": "markdown",
   "metadata": {
    "id": "YLu_aIuJIBdQ"
   },
   "source": [
    "- Fechas en **next y last payment d** reemplazar con Dic-2000 para poder separarlas de las otras fechas en las series, cuyos valores van del 2007 a 2015"
   ]
  },
  {
   "cell_type": "code",
   "execution_count": null,
   "metadata": {
    "colab": {
     "base_uri": "https://localhost:8080/"
    },
    "id": "7r4ETk2vIAMS",
    "outputId": "1425581a-c0c4-4dc3-f42e-e11d02ad1880"
   },
   "outputs": [],
   "source": [
    "creditos2['last_pymnt_d'].fillna('Dec-2000', inplace=True)\n",
    "creditos2['next_pymnt_d'].fillna('Dec-2000', inplace=True)"
   ]
  },
  {
   "cell_type": "markdown",
   "metadata": {
    "id": "iTOQroRGUFn2"
   },
   "source": [
    "- Para tratar nulos de **months since last delinq** primero consultar valores, si no existen ceros se puede asignar este valor"
   ]
  },
  {
   "cell_type": "code",
   "execution_count": null,
   "metadata": {
    "id": "QpvtzspPUeMh"
   },
   "outputs": [],
   "source": [
    "#creditos2.mths_since_last_delinq.value_counts().to_dict()"
   ]
  },
  {
   "cell_type": "markdown",
   "metadata": {
    "id": "GnjmwYTWUqAJ"
   },
   "source": [
    "Existen 2400 observaciones con cero entonces no se puede asignar el mismo valor, rellenar con -999"
   ]
  },
  {
   "cell_type": "code",
   "execution_count": null,
   "metadata": {
    "colab": {
     "base_uri": "https://localhost:8080/"
    },
    "id": "qG90yi1OU1W6",
    "outputId": "f6122801-29c8-474a-bbb3-f2d788222cf5"
   },
   "outputs": [],
   "source": [
    "creditos2['mths_since_last_delinq'].fillna(-999, inplace=True)"
   ]
  },
  {
   "cell_type": "markdown",
   "metadata": {
    "id": "HoraHhtlVfNX"
   },
   "source": [
    "- Para **tot hi cred lim**, rellenar NaN con el promedio del resto de valores. Crear variable para después aplicar el *fillna*"
   ]
  },
  {
   "cell_type": "code",
   "execution_count": null,
   "metadata": {
    "colab": {
     "base_uri": "https://localhost:8080/"
    },
    "id": "tleTG77-VIzp",
    "outputId": "dfbf695e-48a9-4595-e5a2-6b8f7af50794"
   },
   "outputs": [],
   "source": [
    "prom_cred_mas_alto = (creditos2['tot_hi_cred_lim'].mean()).astype(int)"
   ]
  },
  {
   "cell_type": "code",
   "execution_count": null,
   "metadata": {
    "colab": {
     "base_uri": "https://localhost:8080/"
    },
    "id": "oVorka3UV1bO",
    "outputId": "6f8a56c5-ff3f-403b-af02-458495086d61"
   },
   "outputs": [],
   "source": [
    "creditos2['tot_hi_cred_lim'].fillna(prom_cred_mas_alto,inplace=True)"
   ]
  },
  {
   "cell_type": "markdown",
   "metadata": {
    "id": "DfQHCPyOU73Z"
   },
   "source": [
    "Las dos celdas siguientes se usan para confirmar nulos en el df y para ver si los valores NaN se rellenaron correctamente en las series procesadas"
   ]
  },
  {
   "cell_type": "code",
   "execution_count": null,
   "metadata": {
    "colab": {
     "base_uri": "https://localhost:8080/"
    },
    "id": "_37HfVPsBKp5",
    "outputId": "6df3093b-1ea0-4b19-94a6-9555a0348e56"
   },
   "outputs": [],
   "source": [
    "creditos2.isnull().any()"
   ]
  },
  {
   "cell_type": "code",
   "execution_count": null,
   "metadata": {
    "colab": {
     "base_uri": "https://localhost:8080/"
    },
    "id": "p8MnIwVYBZqr",
    "outputId": "2b207299-ee3e-41a7-abbb-90f28debe009"
   },
   "outputs": [],
   "source": [
    "creditos2.settlement_status.value_counts()"
   ]
  },
  {
   "cell_type": "markdown",
   "metadata": {
    "id": "thMh_OBiYe0O"
   },
   "source": [
    "Cambiar tipos de datos para facilitar el analisis"
   ]
  },
  {
   "cell_type": "code",
   "execution_count": null,
   "metadata": {
    "colab": {
     "base_uri": "https://localhost:8080/"
    },
    "id": "X6utgIpnYkDR",
    "outputId": "11d6633e-253a-4bd9-8603-b045e14a40d9"
   },
   "outputs": [],
   "source": [
    "creditos2['annual_inc'] = creditos2['annual_inc'].astype(int)\n",
    "creditos2['delinq_2yrs'] = creditos2['delinq_2yrs'].astype(int)\n",
    "creditos2['mths_since_last_delinq'] = creditos2['mths_since_last_delinq'].astype(int)"
   ]
  },
  {
   "cell_type": "code",
   "execution_count": null,
   "metadata": {
    "colab": {
     "base_uri": "https://localhost:8080/"
    },
    "id": "0F-OFo7qYr2v",
    "outputId": "e68b1818-3253-4fa1-d329-5d0bdc04e131"
   },
   "outputs": [],
   "source": [
    "creditos2.dtypes"
   ]
  },
  {
   "cell_type": "markdown",
   "metadata": {
    "id": "7IGJJdcSqClH"
   },
   "source": [
    "**Convertir columnas de fecha a dt**\n",
    "\n",
    "Los cambios se hacen inplace, el formato es mes, año (%b-%Y)"
   ]
  },
  {
   "cell_type": "code",
   "execution_count": null,
   "metadata": {
    "colab": {
     "base_uri": "https://localhost:8080/"
    },
    "id": "eYcQMSwAZi8-",
    "outputId": "d94757ad-172f-4d8c-aa98-5d779b3c39e9"
   },
   "outputs": [],
   "source": [
    "creditos2['next_pymnt_d'] = pd.to_datetime(creditos2['next_pymnt_d'], format = '%b-%Y')\n",
    "creditos2['last_pymnt_d'] = pd.to_datetime(creditos2['last_pymnt_d'], format = '%b-%Y')\n",
    "creditos2['earliest_cr_line'] = pd.to_datetime(creditos2['earliest_cr_line'],format='%b-%Y')"
   ]
  },
  {
   "cell_type": "markdown",
   "metadata": {
    "id": "LLK5JJT7Uyls"
   },
   "source": [
    "# **Feature Transformation**"
   ]
  },
  {
   "cell_type": "code",
   "execution_count": null,
   "metadata": {
    "colab": {
     "base_uri": "https://localhost:8080/"
    },
    "id": "B9iUjQkXlTSs",
    "outputId": "d8f3ae88-6590-47c6-d3e7-386a3a9c1c08"
   },
   "outputs": [],
   "source": [
    "creditos2.earliest_cr_line.sort_values()"
   ]
  },
  {
   "cell_type": "markdown",
   "metadata": {
    "id": "SShdS6vnkq5x"
   },
   "source": [
    "\n",
    "**Creación de variables categoricas**\n",
    "\n",
    "*Vintage del cliente*\n",
    "\n",
    "Después de cambiar tipo de dato earliest_cr_line a datetime, ordenar los valores, consultar el más antiguo y más reciente poder definir límites de categorías de vintage de clientes"
   ]
  },
  {
   "cell_type": "markdown",
   "metadata": {
    "id": "7izvd0cilZ_W"
   },
   "source": [
    "- Separar solo el año del datetime y definir limites para los bins de segmentacion, crear categorias very long, long term, established y new"
   ]
  },
  {
   "cell_type": "code",
   "execution_count": null,
   "metadata": {
    "colab": {
     "base_uri": "https://localhost:8080/"
    },
    "id": "QQbw7jhble-l",
    "outputId": "0dddd4ae-cce7-4aa4-f72c-3967c67d46f4"
   },
   "outputs": [],
   "source": [
    "creditos2['vintage_cliente'] = pd.cut(creditos2.earliest_cr_line.dt.year, [1900, 1969,1970,2000,2010,2020], labels=['very long term', 'long term', 'established','mid-term ','new'])"
   ]
  },
  {
   "cell_type": "markdown",
   "metadata": {
    "id": "Swb7irQ4ltR4"
   },
   "source": [
    "*Social Class*\n",
    "\n",
    "Categoría basada en el nivel de ingresos del cliente\n",
    "\n",
    "- Se empleará para determinar un promedio de ingresos y hacer más sencilla la evaluación del ratio loan/income"
   ]
  },
  {
   "cell_type": "code",
   "execution_count": null,
   "metadata": {
    "colab": {
     "base_uri": "https://localhost:8080/"
    },
    "id": "xTc7jArytyPp",
    "outputId": "99c95299-575b-4555-fa55-6d812c61cbf7"
   },
   "outputs": [],
   "source": [
    "creditos2['soc_class'] = pd.cut(creditos2.annual_inc,[-1,13000,35000,65000,130000,110000000], labels=['lower','working','middle','upper-middle','upper'])"
   ]
  },
  {
   "cell_type": "markdown",
   "metadata": {
    "id": "Sf4jJ7nGt8IH"
   },
   "source": [
    "Crear columna con ingresos promedio por cada categoria"
   ]
  },
  {
   "cell_type": "code",
   "execution_count": null,
   "metadata": {
    "colab": {
     "base_uri": "https://localhost:8080/"
    },
    "id": "VH-P2yOjuB6w",
    "outputId": "9364cf2f-5fcb-41db-c568-b86a1ed74479"
   },
   "outputs": [],
   "source": [
    "creditos2['avg_annual_inc'] = (creditos2.groupby(['soc_class'])['annual_inc'].transform('mean')).astype(int)"
   ]
  },
  {
   "cell_type": "markdown",
   "metadata": {
    "id": "yxQzqwLNuLUP"
   },
   "source": [
    "Creacion de ratio loan/income para verificar nivel de deuda respecto a ingresos del cliente"
   ]
  },
  {
   "cell_type": "code",
   "execution_count": null,
   "metadata": {
    "colab": {
     "base_uri": "https://localhost:8080/"
    },
    "id": "nRIV_rPPuS2g",
    "outputId": "8afff27b-37c8-4baa-e360-f84faca91548"
   },
   "outputs": [],
   "source": [
    "creditos2['loan/income'] = (creditos2['loan_amnt'] / creditos2['avg_annual_inc']).round(2)"
   ]
  },
  {
   "cell_type": "code",
   "execution_count": null,
   "metadata": {},
   "outputs": [],
   "source": [
    "creditos2.to_csv('credito_df.csv', index=False)"
   ]
  },
  {
   "cell_type": "markdown",
   "metadata": {
    "id": "LLK5JJT7Uyls"
   },
   "source": [
    "# **Correlation Analysis**"
   ]
  },
  {
   "cell_type": "markdown",
   "metadata": {
    "id": "HELvSMCqEzDK"
   },
   "source": [
    "1. Identifique si tiene variables correlacionadas"
   ]
  },
  {
   "cell_type": "markdown",
   "metadata": {},
   "source": [
    "2. En caso de ser así, encuentre una explicación lógica para esa correlación. Si no\n",
    "encuentra un argumento, puede mencionarlo."
   ]
  },
  {
   "cell_type": "markdown",
   "metadata": {
    "id": "LLK5JJT7Uyls"
   },
   "source": [
    "# **Análisis descriptivo**"
   ]
  },
  {
   "cell_type": "markdown",
   "metadata": {},
   "source": [
    "1. Usando estatísticos descriptivos univariados, analice las variables que considere\n",
    "relevantes y aportan información."
   ]
  },
  {
   "cell_type": "markdown",
   "metadata": {},
   "source": [
    " loan/income para verificar nivel de deuda respecto a ingresos del cliente"
   ]
  },
  {
   "cell_type": "code",
   "execution_count": null,
   "metadata": {},
   "outputs": [],
   "source": [
    "%matplotlib inline"
   ]
  },
  {
   "cell_type": "code",
   "execution_count": null,
   "metadata": {},
   "outputs": [],
   "source": [
    "fig, ax = plt.subplots()"
   ]
  },
  {
   "cell_type": "code",
   "execution_count": null,
   "metadata": {},
   "outputs": [],
   "source": [
    "ax.hist(creditos2['loan/income'], bins=10, range=(0, 1), edgecolor='black')"
   ]
  },
  {
   "cell_type": "code",
   "execution_count": null,
   "metadata": {},
   "outputs": [],
   "source": [
    "ax.set_title('Histograma de Loan/Income')\n",
    "ax.set_xlabel('Loan/Income')\n",
    "ax.set_ylabel('Frecuencia')"
   ]
  },
  {
   "cell_type": "code",
   "execution_count": null,
   "metadata": {},
   "outputs": [],
   "source": [
    "# Mostrar el histograma\n",
    "plt.show()"
   ]
  },
  {
   "cell_type": "code",
   "execution_count": null,
   "metadata": {},
   "outputs": [],
   "source": [
    "creditos2['loan/income'].hist(bins=10, range=(0, 0.7), edgecolor='black')"
   ]
  },
  {
   "cell_type": "markdown",
   "metadata": {},
   "source": [
    "2. Usando estatísticos descriptivos bivariados, analice las variables que considere\n",
    "relevantes y aportan información."
   ]
  },
  {
   "cell_type": "code",
   "execution_count": null,
   "metadata": {},
   "outputs": [],
   "source": [
    "tabla_contingencia = pd.crosstab(creditos2['soc_class'], creditos2['marca_mal_pagador'])"
   ]
  },
  {
   "cell_type": "code",
   "execution_count": null,
   "metadata": {},
   "outputs": [],
   "source": [
    "print(tabla_contingencia)"
   ]
  },
  {
   "cell_type": "code",
   "execution_count": null,
   "metadata": {},
   "outputs": [],
   "source": [
    "tabla_contingencia.plot(kind='bar', stacked=True)"
   ]
  },
  {
   "cell_type": "code",
   "execution_count": null,
   "metadata": {},
   "outputs": [],
   "source": [
    "boxplot = sns.boxplot(x='emp_title', y='marca_mal_pagador', data=creditos2)"
   ]
  },
  {
   "cell_type": "code",
   "execution_count": null,
   "metadata": {},
   "outputs": [],
   "source": [
    "print(boxplot)"
   ]
  },
  {
   "cell_type": "markdown",
   "metadata": {
    "id": "LLK5JJT7Uyls"
   },
   "source": [
    "# **Correlation Analysis**"
   ]
  },
  {
   "cell_type": "markdown",
   "metadata": {},
   "source": [
    "3. Con variables categóricas, realice análisis con tablas cruzadas."
   ]
  },
  {
   "cell_type": "code",
   "execution_count": null,
   "metadata": {},
   "outputs": [],
   "source": []
  }
 ],
 "metadata": {
  "colab": {
   "provenance": []
  },
  "kernelspec": {
   "display_name": "Python 3",
   "language": "python",
   "name": "python3"
  },
  "language_info": {
   "codemirror_mode": {
    "name": "ipython",
    "version": 3
   },
   "file_extension": ".py",
   "mimetype": "text/x-python",
   "name": "python",
   "nbconvert_exporter": "python",
   "pygments_lexer": "ipython3",
   "version": "3.7.1"
  }
 },
 "nbformat": 4,
 "nbformat_minor": 1
}
